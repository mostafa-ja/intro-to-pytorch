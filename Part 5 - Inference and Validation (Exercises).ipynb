{
  "cells": [
    {
      "cell_type": "markdown",
      "metadata": {
        "id": "view-in-github",
        "colab_type": "text"
      },
      "source": [
        "<a href=\"https://colab.research.google.com/github/mostafa-ja/intro-to-pytorch/blob/master/Part%205%20-%20Inference%20and%20Validation%20(Exercises).ipynb\" target=\"_parent\"><img src=\"https://colab.research.google.com/assets/colab-badge.svg\" alt=\"Open In Colab\"/></a>"
      ]
    },
    {
      "cell_type": "markdown",
      "metadata": {
        "id": "xbBAT6ONIVyT"
      },
      "source": [
        "# Inference and Validation\n",
        "\n",
        "Now that you have a trained network, you can use it for making predictions. This is typically called **inference**, a term borrowed from statistics. However, neural networks have a tendency to perform *too well* on the training data and aren't able to generalize to data that hasn't been seen before. This is called **overfitting** and it impairs inference performance. To test for overfitting while training, we measure the performance on data not in the training set called the **validation** set. We avoid overfitting through regularization such as dropout while monitoring the validation performance during training. In this notebook, I'll show you how to do this in PyTorch. \n",
        "\n",
        "As usual, let's start by loading the dataset through torchvision. You'll learn more about torchvision and loading data in a later part. This time we'll be taking advantage of the test set which you can get by setting `train=False` here:\n",
        "\n",
        "```python\n",
        "testset = datasets.FashionMNIST('~/.pytorch/F_MNIST_data/', download=True, train=False, transform=transform)\n",
        "```\n",
        "\n",
        "The test set contains images just like the training set. Typically you'll see 10-20% of the original dataset held out for testing and validation with the rest being used for training."
      ]
    },
    {
      "cell_type": "code",
      "execution_count": 1,
      "metadata": {
        "colab": {
          "base_uri": "https://localhost:8080/",
          "height": 443,
          "referenced_widgets": [
            "5811ccf53d6d4f98a773d791164526c3",
            "7d8cb725352c4cd895116e5f62c1a53f",
            "3f81e0896dca41e29524ef21fad5e5f6",
            "bee28938916a45a089c32d27122dc306",
            "dbcf17dca340404bb9e66ac2b0c4a5fe",
            "2b1749fb7b82416095f7bc36c605be3c",
            "a8556bd8eb4b4ec3b742b25d6692d89d",
            "b4012699b5a448b78d619733b34f6e7d",
            "9ebc8f1575614f538b3b03b5a255c4a3",
            "ae23b5e1b56e4b66aa56c84e71053539",
            "62ac0abb2be34cffbc2d983652a880b8",
            "eed0cf3442104ea29303b5ce323da9a6",
            "4538527787a441b8a4d470b1079d5eb3",
            "98d62dabdb414b92879e2f013dc41cfc",
            "d3eb6f59b2ca4a07ae66f0afe9059dcf",
            "e092c7dc1e3a40adab456a41bc765f29",
            "d74f3d11a78d49408c139d40ad9c510d",
            "6e05001fc0ef43a6994cc99f8f90e27d",
            "4f4b42967f9d471c9ba5eb512c90d593",
            "8af6fc9b651f478abbf01120518ec25d",
            "60d7e18a4e9e4119ad92efe7661cb95d",
            "4aba2c99ae9b40ef824d8791151d87d3",
            "5da4cd3e721b44078df70ddd95f103a7",
            "309d5b912ebc402580dcbd577b2f884d",
            "8789347c5f9646ff9dad0e52beeb8dc6",
            "d3ff97c9b87d473ba8373b4a4e90a20c",
            "3a469a75c975485b80675b1f8742ea9d",
            "52f1f771e54549e1b5d2e99b59940698",
            "7209f14feb10410ebdf1f211f885b2b0",
            "c1a3c2039c6c491b85ab1386c5ce92f2",
            "fbf0f62c49fd4efa85296b9fbbff3886",
            "f57275d756c3479c8e4cb1d752ca414b",
            "e96d722bf1864eb1bfd49a09c7305c55",
            "c6be8d2d09844575b527b198d6c9bd6d",
            "069de2997a9a4954bec82408cbfadae3",
            "899d616cd28f474cb2f22197347c7b0d",
            "65c140974e914e58a7c1df99c2e9a98f",
            "84cc29b8b9234b3ba6a635c54649cfcc",
            "8f6cc1238cbc4b19976322763d84765b",
            "33f874dcbc5748c7b5b3d21e6d0ef2ba",
            "31f5dc084694433aa08837bdad568b89",
            "728abd61859e4669803e5982ed15f940",
            "2ee5d98067624ce2975e87a4e357390e",
            "981f6671b8c548038c84e14f73041888"
          ]
        },
        "id": "j-NIgOCFIVya",
        "outputId": "b9dd178b-73d1-408d-ae1f-cfccd21c7b7c"
      },
      "outputs": [
        {
          "output_type": "stream",
          "name": "stdout",
          "text": [
            "Downloading http://fashion-mnist.s3-website.eu-central-1.amazonaws.com/train-images-idx3-ubyte.gz\n",
            "Downloading http://fashion-mnist.s3-website.eu-central-1.amazonaws.com/train-images-idx3-ubyte.gz to /root/.pytorch/F_MNIST_data/FashionMNIST/raw/train-images-idx3-ubyte.gz\n"
          ]
        },
        {
          "output_type": "display_data",
          "data": {
            "text/plain": [
              "  0%|          | 0/26421880 [00:00<?, ?it/s]"
            ],
            "application/vnd.jupyter.widget-view+json": {
              "version_major": 2,
              "version_minor": 0,
              "model_id": "5811ccf53d6d4f98a773d791164526c3"
            }
          },
          "metadata": {}
        },
        {
          "output_type": "stream",
          "name": "stdout",
          "text": [
            "Extracting /root/.pytorch/F_MNIST_data/FashionMNIST/raw/train-images-idx3-ubyte.gz to /root/.pytorch/F_MNIST_data/FashionMNIST/raw\n",
            "\n",
            "Downloading http://fashion-mnist.s3-website.eu-central-1.amazonaws.com/train-labels-idx1-ubyte.gz\n",
            "Downloading http://fashion-mnist.s3-website.eu-central-1.amazonaws.com/train-labels-idx1-ubyte.gz to /root/.pytorch/F_MNIST_data/FashionMNIST/raw/train-labels-idx1-ubyte.gz\n"
          ]
        },
        {
          "output_type": "display_data",
          "data": {
            "text/plain": [
              "  0%|          | 0/29515 [00:00<?, ?it/s]"
            ],
            "application/vnd.jupyter.widget-view+json": {
              "version_major": 2,
              "version_minor": 0,
              "model_id": "eed0cf3442104ea29303b5ce323da9a6"
            }
          },
          "metadata": {}
        },
        {
          "output_type": "stream",
          "name": "stdout",
          "text": [
            "Extracting /root/.pytorch/F_MNIST_data/FashionMNIST/raw/train-labels-idx1-ubyte.gz to /root/.pytorch/F_MNIST_data/FashionMNIST/raw\n",
            "\n",
            "Downloading http://fashion-mnist.s3-website.eu-central-1.amazonaws.com/t10k-images-idx3-ubyte.gz\n",
            "Downloading http://fashion-mnist.s3-website.eu-central-1.amazonaws.com/t10k-images-idx3-ubyte.gz to /root/.pytorch/F_MNIST_data/FashionMNIST/raw/t10k-images-idx3-ubyte.gz\n"
          ]
        },
        {
          "output_type": "display_data",
          "data": {
            "text/plain": [
              "  0%|          | 0/4422102 [00:00<?, ?it/s]"
            ],
            "application/vnd.jupyter.widget-view+json": {
              "version_major": 2,
              "version_minor": 0,
              "model_id": "5da4cd3e721b44078df70ddd95f103a7"
            }
          },
          "metadata": {}
        },
        {
          "output_type": "stream",
          "name": "stdout",
          "text": [
            "Extracting /root/.pytorch/F_MNIST_data/FashionMNIST/raw/t10k-images-idx3-ubyte.gz to /root/.pytorch/F_MNIST_data/FashionMNIST/raw\n",
            "\n",
            "Downloading http://fashion-mnist.s3-website.eu-central-1.amazonaws.com/t10k-labels-idx1-ubyte.gz\n",
            "Downloading http://fashion-mnist.s3-website.eu-central-1.amazonaws.com/t10k-labels-idx1-ubyte.gz to /root/.pytorch/F_MNIST_data/FashionMNIST/raw/t10k-labels-idx1-ubyte.gz\n"
          ]
        },
        {
          "output_type": "display_data",
          "data": {
            "text/plain": [
              "  0%|          | 0/5148 [00:00<?, ?it/s]"
            ],
            "application/vnd.jupyter.widget-view+json": {
              "version_major": 2,
              "version_minor": 0,
              "model_id": "c6be8d2d09844575b527b198d6c9bd6d"
            }
          },
          "metadata": {}
        },
        {
          "output_type": "stream",
          "name": "stdout",
          "text": [
            "Extracting /root/.pytorch/F_MNIST_data/FashionMNIST/raw/t10k-labels-idx1-ubyte.gz to /root/.pytorch/F_MNIST_data/FashionMNIST/raw\n",
            "\n"
          ]
        }
      ],
      "source": [
        "import torch\n",
        "from torchvision import datasets, transforms\n",
        "\n",
        "# Define a transform to normalize the data\n",
        "transform = transforms.Compose([transforms.ToTensor(),\n",
        "                                transforms.Normalize((0.5,), (0.5,))])\n",
        "# Download and load the training data\n",
        "trainset = datasets.FashionMNIST('~/.pytorch/F_MNIST_data/', download=True, train=True, transform=transform)\n",
        "trainloader = torch.utils.data.DataLoader(trainset, batch_size=64, shuffle=True)\n",
        "\n",
        "# Download and load the test data\n",
        "testset = datasets.FashionMNIST('~/.pytorch/F_MNIST_data/', download=True, train=False, transform=transform)\n",
        "testloader = torch.utils.data.DataLoader(testset, batch_size=64, shuffle=True)"
      ]
    },
    {
      "cell_type": "markdown",
      "metadata": {
        "id": "fpcEelyTIVyd"
      },
      "source": [
        "Here I'll create a model like normal, using the same one from my solution for part 4."
      ]
    },
    {
      "cell_type": "code",
      "execution_count": 6,
      "metadata": {
        "id": "uHvC4--oIVye"
      },
      "outputs": [],
      "source": [
        "from torch import nn, optim\n",
        "import torch.nn.functional as F\n",
        "\n",
        "class Classifier(nn.Module):\n",
        "    def __init__(self):\n",
        "        super().__init__()\n",
        "        self.fc1 = nn.Linear(784, 256)\n",
        "        self.fc2 = nn.Linear(256, 128)\n",
        "        self.fc3 = nn.Linear(128, 64)\n",
        "        self.fc4 = nn.Linear(64, 10)\n",
        "        \n",
        "    def forward(self, x):\n",
        "        # make sure input tensor is flattened\n",
        "        x = x.view(x.shape[0], -1)\n",
        "        \n",
        "        x = F.relu(self.fc1(x))\n",
        "        x = F.relu(self.fc2(x))\n",
        "        x = F.relu(self.fc3(x))\n",
        "        x = self.fc4(x)\n",
        "        \n",
        "        return x"
      ]
    },
    {
      "cell_type": "markdown",
      "metadata": {
        "id": "iUjJtHBzIVye"
      },
      "source": [
        "The goal of validation is to measure the model's performance on data that isn't part of the training set. Performance here is up to the developer to define though. Typically this is just accuracy, the percentage of classes the network predicted correctly. Other options are [precision and recall](https://en.wikipedia.org/wiki/Precision_and_recall#Definition_(classification_context)) and top-5 error rate. We'll focus on accuracy here. First I'll do a forward pass with one batch from the test set."
      ]
    },
    {
      "cell_type": "code",
      "execution_count": 7,
      "metadata": {
        "colab": {
          "base_uri": "https://localhost:8080/"
        },
        "id": "n6j_lKUUIVyf",
        "outputId": "3da47e4d-c78c-480f-c070-8d00698e4ac5"
      },
      "outputs": [
        {
          "output_type": "stream",
          "name": "stdout",
          "text": [
            "torch.Size([64, 10])\n"
          ]
        }
      ],
      "source": [
        "model = Classifier()\n",
        "\n",
        "images, labels = next(iter(testloader))\n",
        "# Get the class probabilities\n",
        "ps = model(images)\n",
        "# Make sure the shape is appropriate, we should get 10 class probabilities for 64 examples\n",
        "print(ps.shape)"
      ]
    },
    {
      "cell_type": "markdown",
      "metadata": {
        "id": "uiJuo449IVyh"
      },
      "source": [
        "With the probabilities, we can get the most likely class using the `ps.topk` method. This returns the $k$ highest values. Since we just want the most likely class, we can use `ps.topk(1)`. This returns a tuple of the top-$k$ values and the top-$k$ indices. If the highest value is the fifth element, we'll get back 4 as the index."
      ]
    },
    {
      "cell_type": "code",
      "execution_count": 9,
      "metadata": {
        "colab": {
          "base_uri": "https://localhost:8080/"
        },
        "id": "cbkswBmKIVyi",
        "outputId": "87c90f07-2cf9-405e-a03a-9ea5743c68d0"
      },
      "outputs": [
        {
          "output_type": "stream",
          "name": "stdout",
          "text": [
            "tensor([[4],\n",
            "        [4],\n",
            "        [4],\n",
            "        [4],\n",
            "        [4],\n",
            "        [4],\n",
            "        [4],\n",
            "        [4],\n",
            "        [4],\n",
            "        [4]])\n"
          ]
        }
      ],
      "source": [
        "top_p, top_class = ps.topk(1, dim=1)\n",
        "# Look at the most likely classes for the first 10 examples\n",
        "print(top_class[:10,:])"
      ]
    },
    {
      "cell_type": "code",
      "source": [
        "print(top_p[:5])"
      ],
      "metadata": {
        "colab": {
          "base_uri": "https://localhost:8080/"
        },
        "id": "zbO6_V7tYyty",
        "outputId": "1948398a-7334-44e2-d2eb-82ed9fb07ff0"
      },
      "execution_count": 15,
      "outputs": [
        {
          "output_type": "stream",
          "name": "stdout",
          "text": [
            "tensor([[0.1586],\n",
            "        [0.1588],\n",
            "        [0.1707],\n",
            "        [0.1930],\n",
            "        [0.1312]], grad_fn=<SliceBackward0>)\n"
          ]
        }
      ]
    },
    {
      "cell_type": "markdown",
      "metadata": {
        "id": "J_yOkGCEIVyi"
      },
      "source": [
        "Now we can check if the predicted classes match the labels. This is simple to do by equating `top_class` and `labels`, but we have to be careful of the shapes. Here `top_class` is a 2D tensor with shape `(64, 1)` while `labels` is 1D with shape `(64)`. To get the equality to work out the way we want, `top_class` and `labels` must have the same shape.\n",
        "\n",
        "If we do\n",
        "\n",
        "```python\n",
        "equals = top_class == labels\n",
        "```\n",
        "\n",
        "`equals` will have shape `(64, 64)`, try it yourself. What it's doing is comparing the one element in each row of `top_class` with each element in `labels` which returns 64 True/False boolean values for each row."
      ]
    },
    {
      "cell_type": "code",
      "execution_count": 22,
      "metadata": {
        "colab": {
          "base_uri": "https://localhost:8080/"
        },
        "id": "Ik0a6jaiIVyj",
        "outputId": "b797a4b2-a326-4bf8-cf03-ebd058bb9e4a"
      },
      "outputs": [
        {
          "output_type": "execute_result",
          "data": {
            "text/plain": [
              "tensor([[ True],\n",
              "        [False],\n",
              "        [False]])"
            ]
          },
          "metadata": {},
          "execution_count": 22
        }
      ],
      "source": [
        "equals = top_class == labels.view(*top_class.shape)\n",
        "equals[:3]"
      ]
    },
    {
      "cell_type": "code",
      "source": [
        "equals.sum()"
      ],
      "metadata": {
        "colab": {
          "base_uri": "https://localhost:8080/"
        },
        "id": "ZaHJkAAScjvj",
        "outputId": "6b816d67-ab46-48b3-d94c-1a94888c9996"
      },
      "execution_count": 23,
      "outputs": [
        {
          "output_type": "execute_result",
          "data": {
            "text/plain": [
              "tensor(7)"
            ]
          },
          "metadata": {},
          "execution_count": 23
        }
      ]
    },
    {
      "cell_type": "markdown",
      "metadata": {
        "id": "ED6_z8PMIVyl"
      },
      "source": [
        "Now we need to calculate the percentage of correct predictions. `equals` has binary values, either 0 or 1. This means that if we just sum up all the values and divide by the number of values, we get the percentage of correct predictions. This is the same operation as taking the mean, so we can get the accuracy with a call to `torch.mean`. If only it was that simple. If you try `torch.mean(equals)`, you'll get an error\n",
        "\n",
        "```\n",
        "RuntimeError: mean is not implemented for type torch.ByteTensor\n",
        "```\n",
        "\n",
        "This happens because `equals` has type `torch.ByteTensor` but `torch.mean` isn't implemented for tensors with that type. So we'll need to convert `equals` to a float tensor. Note that when we take `torch.mean` it returns a scalar tensor, to get the actual value as a float we'll need to do `accuracy.item()`."
      ]
    },
    {
      "cell_type": "code",
      "execution_count": 19,
      "metadata": {
        "colab": {
          "base_uri": "https://localhost:8080/"
        },
        "id": "_rWWPJh8IVym",
        "outputId": "ef4a8896-0a88-4f3c-d1a0-6c7a00f6b883"
      },
      "outputs": [
        {
          "output_type": "stream",
          "name": "stdout",
          "text": [
            "Accuracy: 9.375%\n"
          ]
        }
      ],
      "source": [
        "accuracy = torch.mean(equals.type(torch.FloatTensor))\n",
        "print(f'Accuracy: {accuracy.item()*100}%')"
      ]
    },
    {
      "cell_type": "markdown",
      "metadata": {
        "id": "rO3swW3ZIVym"
      },
      "source": [
        "The network is untrained so it's making random guesses and we should see an accuracy around 10%. Now let's train our network and include our validation pass so we can measure how well the network is performing on the test set. Since we're not updating our parameters in the validation pass, we can speed up our code by turning off gradients using `torch.no_grad()`:\n",
        "\n",
        "```python\n",
        "# turn off gradients\n",
        "with torch.no_grad():\n",
        "    # validation pass here\n",
        "    for images, labels in testloader:\n",
        "        ...\n",
        "```\n",
        "\n",
        ">**Exercise:** Implement the validation loop below and print out the total accuracy after the loop. You can largely copy and paste the code from above, but I suggest typing it in because writing it out yourself is essential for building the skill. In general you'll always learn more by typing it rather than copy-pasting. You should be able to get an accuracy above 80%."
      ]
    },
    {
      "cell_type": "code",
      "execution_count": 31,
      "metadata": {
        "id": "-nUrqUMDIVyn",
        "outputId": "1f1929da-3b44-4198-c03a-ae984e04f5d9",
        "colab": {
          "base_uri": "https://localhost:8080/"
        }
      },
      "outputs": [
        {
          "output_type": "stream",
          "name": "stdout",
          "text": [
            "Epoch: 1/30..  Training Loss: 0.008..  Test Loss: 0.007..  Test Accuracy: 0.838\n",
            "Epoch: 2/30..  Training Loss: 0.006..  Test Loss: 0.007..  Test Accuracy: 0.826\n",
            "Epoch: 3/30..  Training Loss: 0.006..  Test Loss: 0.006..  Test Accuracy: 0.866\n",
            "Epoch: 4/30..  Training Loss: 0.005..  Test Loss: 0.006..  Test Accuracy: 0.855\n",
            "Epoch: 5/30..  Training Loss: 0.005..  Test Loss: 0.006..  Test Accuracy: 0.865\n",
            "Epoch: 6/30..  Training Loss: 0.005..  Test Loss: 0.006..  Test Accuracy: 0.865\n",
            "Epoch: 7/30..  Training Loss: 0.005..  Test Loss: 0.006..  Test Accuracy: 0.866\n",
            "Epoch: 8/30..  Training Loss: 0.004..  Test Loss: 0.006..  Test Accuracy: 0.870\n",
            "Epoch: 9/30..  Training Loss: 0.004..  Test Loss: 0.006..  Test Accuracy: 0.876\n",
            "Epoch: 10/30..  Training Loss: 0.004..  Test Loss: 0.006..  Test Accuracy: 0.874\n",
            "Epoch: 11/30..  Training Loss: 0.004..  Test Loss: 0.006..  Test Accuracy: 0.878\n",
            "Epoch: 12/30..  Training Loss: 0.004..  Test Loss: 0.006..  Test Accuracy: 0.871\n",
            "Epoch: 13/30..  Training Loss: 0.004..  Test Loss: 0.006..  Test Accuracy: 0.878\n",
            "Epoch: 14/30..  Training Loss: 0.004..  Test Loss: 0.006..  Test Accuracy: 0.872\n",
            "Epoch: 15/30..  Training Loss: 0.004..  Test Loss: 0.006..  Test Accuracy: 0.878\n",
            "Epoch: 16/30..  Training Loss: 0.004..  Test Loss: 0.006..  Test Accuracy: 0.875\n",
            "Epoch: 17/30..  Training Loss: 0.004..  Test Loss: 0.006..  Test Accuracy: 0.877\n",
            "Epoch: 18/30..  Training Loss: 0.004..  Test Loss: 0.006..  Test Accuracy: 0.876\n",
            "Epoch: 19/30..  Training Loss: 0.003..  Test Loss: 0.006..  Test Accuracy: 0.877\n",
            "Epoch: 20/30..  Training Loss: 0.003..  Test Loss: 0.006..  Test Accuracy: 0.881\n",
            "Epoch: 21/30..  Training Loss: 0.003..  Test Loss: 0.006..  Test Accuracy: 0.882\n",
            "Epoch: 22/30..  Training Loss: 0.003..  Test Loss: 0.006..  Test Accuracy: 0.876\n",
            "Epoch: 23/30..  Training Loss: 0.003..  Test Loss: 0.006..  Test Accuracy: 0.884\n",
            "Epoch: 24/30..  Training Loss: 0.003..  Test Loss: 0.006..  Test Accuracy: 0.885\n",
            "Epoch: 25/30..  Training Loss: 0.003..  Test Loss: 0.006..  Test Accuracy: 0.881\n",
            "Epoch: 26/30..  Training Loss: 0.003..  Test Loss: 0.007..  Test Accuracy: 0.882\n",
            "Epoch: 27/30..  Training Loss: 0.003..  Test Loss: 0.006..  Test Accuracy: 0.885\n",
            "Epoch: 28/30..  Training Loss: 0.003..  Test Loss: 0.007..  Test Accuracy: 0.878\n",
            "Epoch: 29/30..  Training Loss: 0.003..  Test Loss: 0.006..  Test Accuracy: 0.884\n",
            "Epoch: 30/30..  Training Loss: 0.003..  Test Loss: 0.006..  Test Accuracy: 0.885\n"
          ]
        }
      ],
      "source": [
        "model = Classifier()\n",
        "criterion = nn.CrossEntropyLoss()\n",
        "optimizer = optim.Adam(model.parameters(), lr=0.003)\n",
        "\n",
        "epochs = 30\n",
        "steps = 0\n",
        "\n",
        "train_losses, test_losses = [], []\n",
        "for e in range(epochs):\n",
        "    tot_train_loss = 0\n",
        "    for images, labels in trainloader:\n",
        "        \n",
        "        optimizer.zero_grad()\n",
        "        \n",
        "        ps = model(images)\n",
        "        loss = criterion(ps, labels)\n",
        "        tot_train_loss += loss.item()\n",
        "\n",
        "        loss.backward()\n",
        "        optimizer.step()\n",
        "        \n",
        "    else:\n",
        "        tot_test_loss = 0\n",
        "        test_correct = 0\n",
        "\n",
        "        with torch.no_grad():\n",
        "          for images, labels in testloader:\n",
        "            ps = model(images)\n",
        "            loss = criterion(ps,labels)\n",
        "            tot_test_loss += loss.item()\n",
        "\n",
        "            top_p,top_class = ps.topk(1,dim=1)\n",
        "            equals = (top_class==labels.view(*top_class.shape))\n",
        "            test_correct += equals.sum().item()\n",
        "\n",
        "        train_loss = tot_train_loss / len(trainloader.dataset)  # ATTENTION :  len(trainloader) just gives number of batches(938) not all sample numbers(60000)\n",
        "        test_loss = tot_test_loss / len(testloader.dataset)\n",
        "\n",
        "        train_losses.append(train_loss)\n",
        "        test_losses.append(test_loss)\n",
        "\n",
        "        test_accuracy = test_correct/len(testloader.dataset)\n",
        "\n",
        "        print(\"Epoch: {}/{}.. \".format(e+1, epochs),\n",
        "              \"Training Loss: {:.3f}.. \".format(train_loss),\n",
        "              \"Test Loss: {:.3f}.. \".format(test_loss),\n",
        "              \"Test Accuracy: {:.3f}\".format(test_accuracy))\n",
        "\n",
        "\n",
        "        "
      ]
    },
    {
      "cell_type": "code",
      "source": [
        "import matplotlib.pyplot as plt\n",
        "plt.plot(train_losses, label='Training loss')\n",
        "plt.plot(test_losses, label='Validation loss')\n",
        "plt.legend(frameon=False)  #frameon=False : Remove the legend border in Matplotlib"
      ],
      "metadata": {
        "colab": {
          "base_uri": "https://localhost:8080/",
          "height": 282
        },
        "id": "AMHpm1QVf4_4",
        "outputId": "2f037573-ff2c-495f-888e-476b307a7d57"
      },
      "execution_count": 32,
      "outputs": [
        {
          "output_type": "execute_result",
          "data": {
            "text/plain": [
              "<matplotlib.legend.Legend at 0x7fdc8c143ac0>"
            ]
          },
          "metadata": {},
          "execution_count": 32
        },
        {
          "output_type": "display_data",
          "data": {
            "text/plain": [
              "<Figure size 432x288 with 1 Axes>"
            ],
            "image/png": "[encoded data removed]"
          },
          "metadata": {
            "needs_background": "light"
          }
        }
      ]
    },
    {
      "cell_type": "markdown",
      "metadata": {
        "id": "smS0EhMpIVyn"
      },
      "source": [
        "## Overfitting\n",
        "\n",
        "If we look at the training and validation losses as we train the network, we can see a phenomenon known as overfitting.\n",
        "\n",
        "<img src='https://github.com/mostafa-ja/intro-to-pytorch/blob/master/assets/overfitting.png?raw=1' width=450px>\n",
        "\n",
        "The network learns the training set better and better, resulting in lower training losses. However, it starts having problems generalizing to data outside the training set leading to the validation loss increasing. The ultimate goal of any deep learning model is to make predictions on new data, so we should strive to get the lowest validation loss possible. One option is to use the version of the model with the lowest validation loss, here the one around 8-10 training epochs. This strategy is called *early-stopping*. In practice, you'd save the model frequently as you're training then later choose the model with the lowest validation loss.\n",
        "\n",
        "The most common method to reduce overfitting (outside of early-stopping) is *dropout*, where we randomly drop input units. This forces the network to share information between weights, increasing it's ability to generalize to new data. Adding dropout in PyTorch is straightforward using the [`nn.Dropout`](https://pytorch.org/docs/stable/nn.html#torch.nn.Dropout) module.\n",
        "\n",
        "```python\n",
        "class Classifier(nn.Module):\n",
        "    def __init__(self):\n",
        "        super().__init__()\n",
        "        self.fc1 = nn.Linear(784, 256)\n",
        "        self.fc2 = nn.Linear(256, 128)\n",
        "        self.fc3 = nn.Linear(128, 64)\n",
        "        self.fc4 = nn.Linear(64, 10)\n",
        "        \n",
        "        # Dropout module with 0.2 drop probability\n",
        "        self.dropout = nn.Dropout(p=0.2)\n",
        "        \n",
        "    def forward(self, x):\n",
        "        # make sure input tensor is flattened\n",
        "        x = x.view(x.shape[0], -1)\n",
        "        \n",
        "        # Now with dropout\n",
        "        x = self.dropout(F.relu(self.fc1(x)))\n",
        "        x = self.dropout(F.relu(self.fc2(x)))\n",
        "        x = self.dropout(F.relu(self.fc3(x)))\n",
        "        \n",
        "        # output so no dropout here\n",
        "        x = F.log_softmax(self.fc4(x), dim=1)\n",
        "        \n",
        "        return x\n",
        "```\n",
        "\n",
        "During training we want to use dropout to prevent overfitting, but during inference we want to use the entire network. So, we need to turn off dropout during validation, testing, and whenever we're using the network to make predictions. To do this, you use `model.eval()`. This sets the model to evaluation mode where the dropout probability is 0. You can turn dropout back on by setting the model to train mode with `model.train()`. In general, the pattern for the validation loop will look like this, where you turn off gradients, set the model to evaluation mode, calculate the validation loss and metric, then set the model back to train mode.\n",
        "\n",
        "```python\n",
        "# turn off gradients\n",
        "with torch.no_grad():\n",
        "    \n",
        "    # set model to evaluation mode\n",
        "    model.eval()\n",
        "    \n",
        "    # validation pass here\n",
        "    for images, labels in testloader:\n",
        "        ...\n",
        "\n",
        "# set model back to train mode\n",
        "model.train()\n",
        "```"
      ]
    },
    {
      "cell_type": "markdown",
      "metadata": {
        "id": "QyDd2c06IVyo"
      },
      "source": [
        "> **Exercise:** Add dropout to your model and train it on Fashion-MNIST again. See if you can get a lower validation loss or higher accuracy."
      ]
    },
    {
      "cell_type": "code",
      "execution_count": 34,
      "metadata": {
        "id": "B3xh8qqEIVyp"
      },
      "outputs": [],
      "source": [
        "class classifier(nn.Module):\n",
        "  def __init__(self):\n",
        "    super().__init__()\n",
        "\n",
        "    self.fc1 = nn.Linear(784,256)\n",
        "    self.fc2 = nn.Linear(256,128)\n",
        "    self.fc3 = nn.Linear(128,64)\n",
        "    self.fc4 = nn.Linear(64,10)\n",
        "\n",
        "    self.droupout = nn.Dropout(p=0.2)\n",
        "\n",
        "  def forward(self,x):\n",
        "    x = x.view(x.shape[0],-1)\n",
        "    \n",
        "    x = self.droupout(F.relu(self.fc1(x)))\n",
        "    x = self.droupout(F.relu(self.fc2(x)))\n",
        "    x = self.droupout(F.relu(self.fc3(x)))\n",
        "    x = self.fc4(x)\n",
        "\n",
        "    return x"
      ]
    },
    {
      "cell_type": "code",
      "execution_count": 37,
      "metadata": {
        "colab": {
          "base_uri": "https://localhost:8080/"
        },
        "id": "qQaqJN3-IVyp",
        "outputId": "bfb1168d-8860-48c5-9475-9d0b1c292bd9"
      },
      "outputs": [
        {
          "output_type": "stream",
          "name": "stdout",
          "text": [
            "Epoch: 1/30..  Training Loss: 0.609..  Test Loss: 0.511..  Test Accuracy: 0.820\n",
            "Epoch: 2/30..  Training Loss: 0.485..  Test Loss: 0.435..  Test Accuracy: 0.847\n",
            "Epoch: 3/30..  Training Loss: 0.444..  Test Loss: 0.425..  Test Accuracy: 0.849\n",
            "Epoch: 4/30..  Training Loss: 0.432..  Test Loss: 0.418..  Test Accuracy: 0.849\n",
            "Epoch: 5/30..  Training Loss: 0.421..  Test Loss: 0.395..  Test Accuracy: 0.862\n",
            "Epoch: 6/30..  Training Loss: 0.410..  Test Loss: 0.400..  Test Accuracy: 0.856\n",
            "Epoch: 7/30..  Training Loss: 0.401..  Test Loss: 0.413..  Test Accuracy: 0.855\n",
            "Epoch: 8/30..  Training Loss: 0.401..  Test Loss: 0.420..  Test Accuracy: 0.848\n",
            "Epoch: 9/30..  Training Loss: 0.392..  Test Loss: 0.383..  Test Accuracy: 0.860\n",
            "Epoch: 10/30..  Training Loss: 0.385..  Test Loss: 0.394..  Test Accuracy: 0.864\n",
            "Epoch: 11/30..  Training Loss: 0.390..  Test Loss: 0.387..  Test Accuracy: 0.860\n",
            "Epoch: 12/30..  Training Loss: 0.379..  Test Loss: 0.385..  Test Accuracy: 0.865\n",
            "Epoch: 13/30..  Training Loss: 0.374..  Test Loss: 0.392..  Test Accuracy: 0.868\n",
            "Epoch: 14/30..  Training Loss: 0.372..  Test Loss: 0.374..  Test Accuracy: 0.868\n",
            "Epoch: 15/30..  Training Loss: 0.365..  Test Loss: 0.386..  Test Accuracy: 0.870\n",
            "Epoch: 16/30..  Training Loss: 0.373..  Test Loss: 0.369..  Test Accuracy: 0.872\n",
            "Epoch: 17/30..  Training Loss: 0.368..  Test Loss: 0.385..  Test Accuracy: 0.868\n",
            "Epoch: 18/30..  Training Loss: 0.360..  Test Loss: 0.364..  Test Accuracy: 0.871\n",
            "Epoch: 19/30..  Training Loss: 0.356..  Test Loss: 0.398..  Test Accuracy: 0.860\n",
            "Epoch: 20/30..  Training Loss: 0.364..  Test Loss: 0.369..  Test Accuracy: 0.870\n",
            "Epoch: 21/30..  Training Loss: 0.360..  Test Loss: 0.367..  Test Accuracy: 0.874\n",
            "Epoch: 22/30..  Training Loss: 0.362..  Test Loss: 0.380..  Test Accuracy: 0.868\n",
            "Epoch: 23/30..  Training Loss: 0.361..  Test Loss: 0.367..  Test Accuracy: 0.875\n",
            "Epoch: 24/30..  Training Loss: 0.347..  Test Loss: 0.364..  Test Accuracy: 0.874\n",
            "Epoch: 25/30..  Training Loss: 0.349..  Test Loss: 0.368..  Test Accuracy: 0.873\n",
            "Epoch: 26/30..  Training Loss: 0.346..  Test Loss: 0.357..  Test Accuracy: 0.878\n",
            "Epoch: 27/30..  Training Loss: 0.350..  Test Loss: 0.376..  Test Accuracy: 0.871\n",
            "Epoch: 28/30..  Training Loss: 0.345..  Test Loss: 0.376..  Test Accuracy: 0.874\n",
            "Epoch: 29/30..  Training Loss: 0.336..  Test Loss: 0.381..  Test Accuracy: 0.876\n",
            "Epoch: 30/30..  Training Loss: 0.343..  Test Loss: 0.367..  Test Accuracy: 0.878\n"
          ]
        }
      ],
      "source": [
        "model =  classifier()\n",
        "criterion = nn.CrossEntropyLoss()\n",
        "optimizer = optim.Adam(model.parameters(),lr=0.003)\n",
        "\n",
        "epochs = 30 \n",
        "train_losses,test_losses = [],[]\n",
        "\n",
        "for e in range(epochs):\n",
        "  train_tot_loss = 0\n",
        "\n",
        "  for images,labels in trainloader:\n",
        "    ps = model(images)\n",
        "    loss = criterion(ps,labels)\n",
        "    train_tot_loss += loss.item()\n",
        "    optimizer.zero_grad()\n",
        "    loss.backward()\n",
        "    optimizer.step()\n",
        "  \n",
        "  else :\n",
        "    accuracy = 0\n",
        "    test_tot_loss = 0\n",
        "    model.eval() #ATTENTION: This sets the model to evaluation mode where the dropout probability is 0\n",
        "\n",
        "    with torch.no_grad():\n",
        "      for images,labels in testloader:\n",
        "        ps = model(images)\n",
        "        loss = criterion(ps,labels)\n",
        "        test_tot_loss += loss.item()\n",
        "        top_p,top_class = ps.topk(1,dim=1) \n",
        "        equals = (top_class == labels.view(*top_class.shape))\n",
        "        accuracy += torch.mean(equals.type(torch.FloatTensor))\n",
        "      \n",
        "      model.train()  #ATTENTION :  You can turn dropout back on by setting the model to train mode with model.train()\n",
        "        \n",
        "      train_losses.append(train_tot_loss/len(trainloader))\n",
        "      test_losses.append(test_tot_loss/len(testloader))\n",
        "\n",
        "      print(\"Epoch: {}/{}.. \".format(e+1, epochs),\n",
        "            \"Training Loss: {:.3f}.. \".format(train_losses[-1]),\n",
        "            \"Test Loss: {:.3f}.. \".format(test_losses[-1]),\n",
        "            \"Test Accuracy: {:.3f}\".format(accuracy/len(testloader)))\n",
        "\n",
        "\n",
        "\n"
      ]
    },
    {
      "cell_type": "code",
      "source": [
        "plt.plot(train_losses, label='Training loss')\n",
        "plt.plot(test_losses, label='Validation loss')\n",
        "plt.legend(frameon=False)"
      ],
      "metadata": {
        "id": "g9UiPjU5q1nI",
        "outputId": "1c8f6050-5081-4808-87b2-941cf803aa98",
        "colab": {
          "base_uri": "https://localhost:8080/",
          "height": 282
        }
      },
      "execution_count": 38,
      "outputs": [
        {
          "output_type": "execute_result",
          "data": {
            "text/plain": [
              "<matplotlib.legend.Legend at 0x7fdc8c1b0040>"
            ]
          },
          "metadata": {},
          "execution_count": 38
        },
        {
          "output_type": "display_data",
          "data": {
            "text/plain": [
              "<Figure size 432x288 with 1 Axes>"
            ],
            "image/png": "[encoded data removed]"
          },
          "metadata": {
            "needs_background": "light"
          }
        }
      ]
    },
    {
      "cell_type": "markdown",
      "metadata": {
        "id": "WWrdQ4GWIVyp"
      },
      "source": [
        "## Inference\n",
        "\n",
        "Now that the model is trained, we can use it for inference. We've done this before, but now we need to remember to set the model in inference mode with `model.eval()`. You'll also want to turn off autograd with the `torch.no_grad()` context."
      ]
    },
    {
      "cell_type": "code",
      "execution_count": null,
      "metadata": {
        "id": "AmWcxNvBIVyq",
        "outputId": "6367150b-da4a-4852-f7d8-76c78bb07eea"
      },
      "outputs": [
        {
          "data": {
            "image/png": "[encoded data removed]",
            "text/plain": [
              "<Figure size 432x648 with 2 Axes>"
            ]
          },
          "metadata": {
            "image/png": {
              "height": 206,
              "width": 423
            },
            "needs_background": "light"
          },
          "output_type": "display_data"
        }
      ],
      "source": [
        "# Import helper module (should be in the repo)\n",
        "import helper\n",
        "\n",
        "# Test out your network!\n",
        "\n",
        "model.eval()\n",
        "\n",
        "dataiter = iter(testloader)\n",
        "images, labels = dataiter.next()\n",
        "img = images[0]\n",
        "# Convert 2D image to 1D vector\n",
        "img = img.view(1, 784)\n",
        "\n",
        "# Calculate the class probabilities (softmax) for img\n",
        "with torch.no_grad():\n",
        "    output = model.forward(img)\n",
        "\n",
        "ps = torch.exp(output)\n",
        "\n",
        "# Plot the image and probabilities\n",
        "helper.view_classify(img.view(1, 28, 28), ps, version='Fashion')"
      ]
    },
    {
      "cell_type": "markdown",
      "metadata": {
        "id": "4khOnxakIVyr"
      },
      "source": [
        "## Next Up!\n",
        "\n",
        "In the next part, I'll show you how to save your trained models. In general, you won't want to train a model everytime you need it. Instead, you'll train once, save it, then load the model when you want to train more or use if for inference."
      ]
    }
  ],
  "metadata": {
    "kernelspec": {
      "display_name": "Python 3",
      "language": "python",
      "name": "python3"
    },
    "language_info": {
      "codemirror_mode": {
        "name": "ipython",
        "version": 3
      },
      "file_extension": ".py",
      "mimetype": "text/x-python",
      "name": "python",
      "nbconvert_exporter": "python",
      "pygments_lexer": "ipython3",
      "version": "3.6.6"
    },
    "colab": {
      "provenance": [],
      "include_colab_link": true
    },
    "widgets": {
      "application/vnd.jupyter.widget-state+json": {
        "5811ccf53d6d4f98a773d791164526c3": {
          "model_module": "@jupyter-widgets/controls",
          "model_name": "HBoxModel",
          "model_module_version": "1.5.0",
          "state": {
            "_dom_classes": [],
            "_model_module": "@jupyter-widgets/controls",
            "_model_module_version": "1.5.0",
            "_model_name": "HBoxModel",
            "_view_count": null,
            "_view_module": "@jupyter-widgets/controls",
            "_view_module_version": "1.5.0",
            "_view_name": "HBoxView",
            "box_style": "",
            "children": [
              "IPY_MODEL_7d8cb725352c4cd895116e5f62c1a53f",
              "IPY_MODEL_3f81e0896dca41e29524ef21fad5e5f6",
              "IPY_MODEL_bee28938916a45a089c32d27122dc306"
            ],
            "layout": "IPY_MODEL_dbcf17dca340404bb9e66ac2b0c4a5fe"
          }
        },
        "7d8cb725352c4cd895116e5f62c1a53f": {
          "model_module": "@jupyter-widgets/controls",
          "model_name": "HTMLModel",
          "model_module_version": "1.5.0",
          "state": {
            "_dom_classes": [],
            "_model_module": "@jupyter-widgets/controls",
            "_model_module_version": "1.5.0",
            "_model_name": "HTMLModel",
            "_view_count": null,
            "_view_module": "@jupyter-widgets/controls",
            "_view_module_version": "1.5.0",
            "_view_name": "HTMLView",
            "description": "",
            "description_tooltip": null,
            "layout": "IPY_MODEL_2b1749fb7b82416095f7bc36c605be3c",
            "placeholder": "​",
            "style": "IPY_MODEL_a8556bd8eb4b4ec3b742b25d6692d89d",
            "value": "100%"
          }
        },
        "3f81e0896dca41e29524ef21fad5e5f6": {
          "model_module": "@jupyter-widgets/controls",
          "model_name": "FloatProgressModel",
          "model_module_version": "1.5.0",
          "state": {
            "_dom_classes": [],
            "_model_module": "@jupyter-widgets/controls",
            "_model_module_version": "1.5.0",
            "_model_name": "FloatProgressModel",
            "_view_count": null,
            "_view_module": "@jupyter-widgets/controls",
            "_view_module_version": "1.5.0",
            "_view_name": "ProgressView",
            "bar_style": "success",
            "description": "",
            "description_tooltip": null,
            "layout": "IPY_MODEL_b4012699b5a448b78d619733b34f6e7d",
            "max": 26421880,
            "min": 0,
            "orientation": "horizontal",
            "style": "IPY_MODEL_9ebc8f1575614f538b3b03b5a255c4a3",
            "value": 26421880
          }
        },
        "bee28938916a45a089c32d27122dc306": {
          "model_module": "@jupyter-widgets/controls",
          "model_name": "HTMLModel",
          "model_module_version": "1.5.0",
          "state": {
            "_dom_classes": [],
            "_model_module": "@jupyter-widgets/controls",
            "_model_module_version": "1.5.0",
            "_model_name": "HTMLModel",
            "_view_count": null,
            "_view_module": "@jupyter-widgets/controls",
            "_view_module_version": "1.5.0",
            "_view_name": "HTMLView",
            "description": "",
            "description_tooltip": null,
            "layout": "IPY_MODEL_ae23b5e1b56e4b66aa56c84e71053539",
            "placeholder": "​",
            "style": "IPY_MODEL_62ac0abb2be34cffbc2d983652a880b8",
            "value": " 26421880/26421880 [00:01&lt;00:00, 28078841.45it/s]"
          }
        },
        "dbcf17dca340404bb9e66ac2b0c4a5fe": {
          "model_module": "@jupyter-widgets/base",
          "model_name": "LayoutModel",
          "model_module_version": "1.2.0",
          "state": {
            "_model_module": "@jupyter-widgets/base",
            "_model_module_version": "1.2.0",
            "_model_name": "LayoutModel",
            "_view_count": null,
            "_view_module": "@jupyter-widgets/base",
            "_view_module_version": "1.2.0",
            "_view_name": "LayoutView",
            "align_content": null,
            "align_items": null,
            "align_self": null,
            "border": null,
            "bottom": null,
            "display": null,
            "flex": null,
            "flex_flow": null,
            "grid_area": null,
            "grid_auto_columns": null,
            "grid_auto_flow": null,
            "grid_auto_rows": null,
            "grid_column": null,
            "grid_gap": null,
            "grid_row": null,
            "grid_template_areas": null,
            "grid_template_columns": null,
            "grid_template_rows": null,
            "height": null,
            "justify_content": null,
            "justify_items": null,
            "left": null,
            "margin": null,
            "max_height": null,
            "max_width": null,
            "min_height": null,
            "min_width": null,
            "object_fit": null,
            "object_position": null,
            "order": null,
            "overflow": null,
            "overflow_x": null,
            "overflow_y": null,
            "padding": null,
            "right": null,
            "top": null,
            "visibility": null,
            "width": null
          }
        },
        "2b1749fb7b82416095f7bc36c605be3c": {
          "model_module": "@jupyter-widgets/base",
          "model_name": "LayoutModel",
          "model_module_version": "1.2.0",
          "state": {
            "_model_module": "@jupyter-widgets/base",
            "_model_module_version": "1.2.0",
            "_model_name": "LayoutModel",
            "_view_count": null,
            "_view_module": "@jupyter-widgets/base",
            "_view_module_version": "1.2.0",
            "_view_name": "LayoutView",
            "align_content": null,
            "align_items": null,
            "align_self": null,
            "border": null,
            "bottom": null,
            "display": null,
            "flex": null,
            "flex_flow": null,
            "grid_area": null,
            "grid_auto_columns": null,
            "grid_auto_flow": null,
            "grid_auto_rows": null,
            "grid_column": null,
            "grid_gap": null,
            "grid_row": null,
            "grid_template_areas": null,
            "grid_template_columns": null,
            "grid_template_rows": null,
            "height": null,
            "justify_content": null,
            "justify_items": null,
            "left": null,
            "margin": null,
            "max_height": null,
            "max_width": null,
            "min_height": null,
            "min_width": null,
            "object_fit": null,
            "object_position": null,
            "order": null,
            "overflow": null,
            "overflow_x": null,
            "overflow_y": null,
            "padding": null,
            "right": null,
            "top": null,
            "visibility": null,
            "width": null
          }
        },
        "a8556bd8eb4b4ec3b742b25d6692d89d": {
          "model_module": "@jupyter-widgets/controls",
          "model_name": "DescriptionStyleModel",
          "model_module_version": "1.5.0",
          "state": {
            "_model_module": "@jupyter-widgets/controls",
            "_model_module_version": "1.5.0",
            "_model_name": "DescriptionStyleModel",
            "_view_count": null,
            "_view_module": "@jupyter-widgets/base",
            "_view_module_version": "1.2.0",
            "_view_name": "StyleView",
            "description_width": ""
          }
        },
        "b4012699b5a448b78d619733b34f6e7d": {
          "model_module": "@jupyter-widgets/base",
          "model_name": "LayoutModel",
          "model_module_version": "1.2.0",
          "state": {
            "_model_module": "@jupyter-widgets/base",
            "_model_module_version": "1.2.0",
            "_model_name": "LayoutModel",
            "_view_count": null,
            "_view_module": "@jupyter-widgets/base",
            "_view_module_version": "1.2.0",
            "_view_name": "LayoutView",
            "align_content": null,
            "align_items": null,
            "align_self": null,
            "border": null,
            "bottom": null,
            "display": null,
            "flex": null,
            "flex_flow": null,
            "grid_area": null,
            "grid_auto_columns": null,
            "grid_auto_flow": null,
            "grid_auto_rows": null,
            "grid_column": null,
            "grid_gap": null,
            "grid_row": null,
            "grid_template_areas": null,
            "grid_template_columns": null,
            "grid_template_rows": null,
            "height": null,
            "justify_content": null,
            "justify_items": null,
            "left": null,
            "margin": null,
            "max_height": null,
            "max_width": null,
            "min_height": null,
            "min_width": null,
            "object_fit": null,
            "object_position": null,
            "order": null,
            "overflow": null,
            "overflow_x": null,
            "overflow_y": null,
            "padding": null,
            "right": null,
            "top": null,
            "visibility": null,
            "width": null
          }
        },
        "9ebc8f1575614f538b3b03b5a255c4a3": {
          "model_module": "@jupyter-widgets/controls",
          "model_name": "ProgressStyleModel",
          "model_module_version": "1.5.0",
          "state": {
            "_model_module": "@jupyter-widgets/controls",
            "_model_module_version": "1.5.0",
            "_model_name": "ProgressStyleModel",
            "_view_count": null,
            "_view_module": "@jupyter-widgets/base",
            "_view_module_version": "1.2.0",
            "_view_name": "StyleView",
            "bar_color": null,
            "description_width": ""
          }
        },
        "ae23b5e1b56e4b66aa56c84e71053539": {
          "model_module": "@jupyter-widgets/base",
          "model_name": "LayoutModel",
          "model_module_version": "1.2.0",
          "state": {
            "_model_module": "@jupyter-widgets/base",
            "_model_module_version": "1.2.0",
            "_model_name": "LayoutModel",
            "_view_count": null,
            "_view_module": "@jupyter-widgets/base",
            "_view_module_version": "1.2.0",
            "_view_name": "LayoutView",
            "align_content": null,
            "align_items": null,
            "align_self": null,
            "border": null,
            "bottom": null,
            "display": null,
            "flex": null,
            "flex_flow": null,
            "grid_area": null,
            "grid_auto_columns": null,
            "grid_auto_flow": null,
            "grid_auto_rows": null,
            "grid_column": null,
            "grid_gap": null,
            "grid_row": null,
            "grid_template_areas": null,
            "grid_template_columns": null,
            "grid_template_rows": null,
            "height": null,
            "justify_content": null,
            "justify_items": null,
            "left": null,
            "margin": null,
            "max_height": null,
            "max_width": null,
            "min_height": null,
            "min_width": null,
            "object_fit": null,
            "object_position": null,
            "order": null,
            "overflow": null,
            "overflow_x": null,
            "overflow_y": null,
            "padding": null,
            "right": null,
            "top": null,
            "visibility": null,
            "width": null
          }
        },
        "62ac0abb2be34cffbc2d983652a880b8": {
          "model_module": "@jupyter-widgets/controls",
          "model_name": "DescriptionStyleModel",
          "model_module_version": "1.5.0",
          "state": {
            "_model_module": "@jupyter-widgets/controls",
            "_model_module_version": "1.5.0",
            "_model_name": "DescriptionStyleModel",
            "_view_count": null,
            "_view_module": "@jupyter-widgets/base",
            "_view_module_version": "1.2.0",
            "_view_name": "StyleView",
            "description_width": ""
          }
        },
        "eed0cf3442104ea29303b5ce323da9a6": {
          "model_module": "@jupyter-widgets/controls",
          "model_name": "HBoxModel",
          "model_module_version": "1.5.0",
          "state": {
            "_dom_classes": [],
            "_model_module": "@jupyter-widgets/controls",
            "_model_module_version": "1.5.0",
            "_model_name": "HBoxModel",
            "_view_count": null,
            "_view_module": "@jupyter-widgets/controls",
            "_view_module_version": "1.5.0",
            "_view_name": "HBoxView",
            "box_style": "",
            "children": [
              "IPY_MODEL_4538527787a441b8a4d470b1079d5eb3",
              "IPY_MODEL_98d62dabdb414b92879e2f013dc41cfc",
              "IPY_MODEL_d3eb6f59b2ca4a07ae66f0afe9059dcf"
            ],
            "layout": "IPY_MODEL_e092c7dc1e3a40adab456a41bc765f29"
          }
        },
        "4538527787a441b8a4d470b1079d5eb3": {
          "model_module": "@jupyter-widgets/controls",
          "model_name": "HTMLModel",
          "model_module_version": "1.5.0",
          "state": {
            "_dom_classes": [],
            "_model_module": "@jupyter-widgets/controls",
            "_model_module_version": "1.5.0",
            "_model_name": "HTMLModel",
            "_view_count": null,
            "_view_module": "@jupyter-widgets/controls",
            "_view_module_version": "1.5.0",
            "_view_name": "HTMLView",
            "description": "",
            "description_tooltip": null,
            "layout": "IPY_MODEL_d74f3d11a78d49408c139d40ad9c510d",
            "placeholder": "​",
            "style": "IPY_MODEL_6e05001fc0ef43a6994cc99f8f90e27d",
            "value": "100%"
          }
        },
        "98d62dabdb414b92879e2f013dc41cfc": {
          "model_module": "@jupyter-widgets/controls",
          "model_name": "FloatProgressModel",
          "model_module_version": "1.5.0",
          "state": {
            "_dom_classes": [],
            "_model_module": "@jupyter-widgets/controls",
            "_model_module_version": "1.5.0",
            "_model_name": "FloatProgressModel",
            "_view_count": null,
            "_view_module": "@jupyter-widgets/controls",
            "_view_module_version": "1.5.0",
            "_view_name": "ProgressView",
            "bar_style": "success",
            "description": "",
            "description_tooltip": null,
            "layout": "IPY_MODEL_4f4b42967f9d471c9ba5eb512c90d593",
            "max": 29515,
            "min": 0,
            "orientation": "horizontal",
            "style": "IPY_MODEL_8af6fc9b651f478abbf01120518ec25d",
            "value": 29515
          }
        },
        "d3eb6f59b2ca4a07ae66f0afe9059dcf": {
          "model_module": "@jupyter-widgets/controls",
          "model_name": "HTMLModel",
          "model_module_version": "1.5.0",
          "state": {
            "_dom_classes": [],
            "_model_module": "@jupyter-widgets/controls",
            "_model_module_version": "1.5.0",
            "_model_name": "HTMLModel",
            "_view_count": null,
            "_view_module": "@jupyter-widgets/controls",
            "_view_module_version": "1.5.0",
            "_view_name": "HTMLView",
            "description": "",
            "description_tooltip": null,
            "layout": "IPY_MODEL_60d7e18a4e9e4119ad92efe7661cb95d",
            "placeholder": "​",
            "style": "IPY_MODEL_4aba2c99ae9b40ef824d8791151d87d3",
            "value": " 29515/29515 [00:00&lt;00:00, 287043.29it/s]"
          }
        },
        "e092c7dc1e3a40adab456a41bc765f29": {
          "model_module": "@jupyter-widgets/base",
          "model_name": "LayoutModel",
          "model_module_version": "1.2.0",
          "state": {
            "_model_module": "@jupyter-widgets/base",
            "_model_module_version": "1.2.0",
            "_model_name": "LayoutModel",
            "_view_count": null,
            "_view_module": "@jupyter-widgets/base",
            "_view_module_version": "1.2.0",
            "_view_name": "LayoutView",
            "align_content": null,
            "align_items": null,
            "align_self": null,
            "border": null,
            "bottom": null,
            "display": null,
            "flex": null,
            "flex_flow": null,
            "grid_area": null,
            "grid_auto_columns": null,
            "grid_auto_flow": null,
            "grid_auto_rows": null,
            "grid_column": null,
            "grid_gap": null,
            "grid_row": null,
            "grid_template_areas": null,
            "grid_template_columns": null,
            "grid_template_rows": null,
            "height": null,
            "justify_content": null,
            "justify_items": null,
            "left": null,
            "margin": null,
            "max_height": null,
            "max_width": null,
            "min_height": null,
            "min_width": null,
            "object_fit": null,
            "object_position": null,
            "order": null,
            "overflow": null,
            "overflow_x": null,
            "overflow_y": null,
            "padding": null,
            "right": null,
            "top": null,
            "visibility": null,
            "width": null
          }
        },
        "d74f3d11a78d49408c139d40ad9c510d": {
          "model_module": "@jupyter-widgets/base",
          "model_name": "LayoutModel",
          "model_module_version": "1.2.0",
          "state": {
            "_model_module": "@jupyter-widgets/base",
            "_model_module_version": "1.2.0",
            "_model_name": "LayoutModel",
            "_view_count": null,
            "_view_module": "@jupyter-widgets/base",
            "_view_module_version": "1.2.0",
            "_view_name": "LayoutView",
            "align_content": null,
            "align_items": null,
            "align_self": null,
            "border": null,
            "bottom": null,
            "display": null,
            "flex": null,
            "flex_flow": null,
            "grid_area": null,
            "grid_auto_columns": null,
            "grid_auto_flow": null,
            "grid_auto_rows": null,
            "grid_column": null,
            "grid_gap": null,
            "grid_row": null,
            "grid_template_areas": null,
            "grid_template_columns": null,
            "grid_template_rows": null,
            "height": null,
            "justify_content": null,
            "justify_items": null,
            "left": null,
            "margin": null,
            "max_height": null,
            "max_width": null,
            "min_height": null,
            "min_width": null,
            "object_fit": null,
            "object_position": null,
            "order": null,
            "overflow": null,
            "overflow_x": null,
            "overflow_y": null,
            "padding": null,
            "right": null,
            "top": null,
            "visibility": null,
            "width": null
          }
        },
        "6e05001fc0ef43a6994cc99f8f90e27d": {
          "model_module": "@jupyter-widgets/controls",
          "model_name": "DescriptionStyleModel",
          "model_module_version": "1.5.0",
          "state": {
            "_model_module": "@jupyter-widgets/controls",
            "_model_module_version": "1.5.0",
            "_model_name": "DescriptionStyleModel",
            "_view_count": null,
            "_view_module": "@jupyter-widgets/base",
            "_view_module_version": "1.2.0",
            "_view_name": "StyleView",
            "description_width": ""
          }
        },
        "4f4b42967f9d471c9ba5eb512c90d593": {
          "model_module": "@jupyter-widgets/base",
          "model_name": "LayoutModel",
          "model_module_version": "1.2.0",
          "state": {
            "_model_module": "@jupyter-widgets/base",
            "_model_module_version": "1.2.0",
            "_model_name": "LayoutModel",
            "_view_count": null,
            "_view_module": "@jupyter-widgets/base",
            "_view_module_version": "1.2.0",
            "_view_name": "LayoutView",
            "align_content": null,
            "align_items": null,
            "align_self": null,
            "border": null,
            "bottom": null,
            "display": null,
            "flex": null,
            "flex_flow": null,
            "grid_area": null,
            "grid_auto_columns": null,
            "grid_auto_flow": null,
            "grid_auto_rows": null,
            "grid_column": null,
            "grid_gap": null,
            "grid_row": null,
            "grid_template_areas": null,
            "grid_template_columns": null,
            "grid_template_rows": null,
            "height": null,
            "justify_content": null,
            "justify_items": null,
            "left": null,
            "margin": null,
            "max_height": null,
            "max_width": null,
            "min_height": null,
            "min_width": null,
            "object_fit": null,
            "object_position": null,
            "order": null,
            "overflow": null,
            "overflow_x": null,
            "overflow_y": null,
            "padding": null,
            "right": null,
            "top": null,
            "visibility": null,
            "width": null
          }
        },
        "8af6fc9b651f478abbf01120518ec25d": {
          "model_module": "@jupyter-widgets/controls",
          "model_name": "ProgressStyleModel",
          "model_module_version": "1.5.0",
          "state": {
            "_model_module": "@jupyter-widgets/controls",
            "_model_module_version": "1.5.0",
            "_model_name": "ProgressStyleModel",
            "_view_count": null,
            "_view_module": "@jupyter-widgets/base",
            "_view_module_version": "1.2.0",
            "_view_name": "StyleView",
            "bar_color": null,
            "description_width": ""
          }
        },
        "60d7e18a4e9e4119ad92efe7661cb95d": {
          "model_module": "@jupyter-widgets/base",
          "model_name": "LayoutModel",
          "model_module_version": "1.2.0",
          "state": {
            "_model_module": "@jupyter-widgets/base",
            "_model_module_version": "1.2.0",
            "_model_name": "LayoutModel",
            "_view_count": null,
            "_view_module": "@jupyter-widgets/base",
            "_view_module_version": "1.2.0",
            "_view_name": "LayoutView",
            "align_content": null,
            "align_items": null,
            "align_self": null,
            "border": null,
            "bottom": null,
            "display": null,
            "flex": null,
            "flex_flow": null,
            "grid_area": null,
            "grid_auto_columns": null,
            "grid_auto_flow": null,
            "grid_auto_rows": null,
            "grid_column": null,
            "grid_gap": null,
            "grid_row": null,
            "grid_template_areas": null,
            "grid_template_columns": null,
            "grid_template_rows": null,
            "height": null,
            "justify_content": null,
            "justify_items": null,
            "left": null,
            "margin": null,
            "max_height": null,
            "max_width": null,
            "min_height": null,
            "min_width": null,
            "object_fit": null,
            "object_position": null,
            "order": null,
            "overflow": null,
            "overflow_x": null,
            "overflow_y": null,
            "padding": null,
            "right": null,
            "top": null,
            "visibility": null,
            "width": null
          }
        },
        "4aba2c99ae9b40ef824d8791151d87d3": {
          "model_module": "@jupyter-widgets/controls",
          "model_name": "DescriptionStyleModel",
          "model_module_version": "1.5.0",
          "state": {
            "_model_module": "@jupyter-widgets/controls",
            "_model_module_version": "1.5.0",
            "_model_name": "DescriptionStyleModel",
            "_view_count": null,
            "_view_module": "@jupyter-widgets/base",
            "_view_module_version": "1.2.0",
            "_view_name": "StyleView",
            "description_width": ""
          }
        },
        "5da4cd3e721b44078df70ddd95f103a7": {
          "model_module": "@jupyter-widgets/controls",
          "model_name": "HBoxModel",
          "model_module_version": "1.5.0",
          "state": {
            "_dom_classes": [],
            "_model_module": "@jupyter-widgets/controls",
            "_model_module_version": "1.5.0",
            "_model_name": "HBoxModel",
            "_view_count": null,
            "_view_module": "@jupyter-widgets/controls",
            "_view_module_version": "1.5.0",
            "_view_name": "HBoxView",
            "box_style": "",
            "children": [
              "IPY_MODEL_309d5b912ebc402580dcbd577b2f884d",
              "IPY_MODEL_8789347c5f9646ff9dad0e52beeb8dc6",
              "IPY_MODEL_d3ff97c9b87d473ba8373b4a4e90a20c"
            ],
            "layout": "IPY_MODEL_3a469a75c975485b80675b1f8742ea9d"
          }
        },
        "309d5b912ebc402580dcbd577b2f884d": {
          "model_module": "@jupyter-widgets/controls",
          "model_name": "HTMLModel",
          "model_module_version": "1.5.0",
          "state": {
            "_dom_classes": [],
            "_model_module": "@jupyter-widgets/controls",
            "_model_module_version": "1.5.0",
            "_model_name": "HTMLModel",
            "_view_count": null,
            "_view_module": "@jupyter-widgets/controls",
            "_view_module_version": "1.5.0",
            "_view_name": "HTMLView",
            "description": "",
            "description_tooltip": null,
            "layout": "IPY_MODEL_52f1f771e54549e1b5d2e99b59940698",
            "placeholder": "​",
            "style": "IPY_MODEL_7209f14feb10410ebdf1f211f885b2b0",
            "value": "100%"
          }
        },
        "8789347c5f9646ff9dad0e52beeb8dc6": {
          "model_module": "@jupyter-widgets/controls",
          "model_name": "FloatProgressModel",
          "model_module_version": "1.5.0",
          "state": {
            "_dom_classes": [],
            "_model_module": "@jupyter-widgets/controls",
            "_model_module_version": "1.5.0",
            "_model_name": "FloatProgressModel",
            "_view_count": null,
            "_view_module": "@jupyter-widgets/controls",
            "_view_module_version": "1.5.0",
            "_view_name": "ProgressView",
            "bar_style": "success",
            "description": "",
            "description_tooltip": null,
            "layout": "IPY_MODEL_c1a3c2039c6c491b85ab1386c5ce92f2",
            "max": 4422102,
            "min": 0,
            "orientation": "horizontal",
            "style": "IPY_MODEL_fbf0f62c49fd4efa85296b9fbbff3886",
            "value": 4422102
          }
        },
        "d3ff97c9b87d473ba8373b4a4e90a20c": {
          "model_module": "@jupyter-widgets/controls",
          "model_name": "HTMLModel",
          "model_module_version": "1.5.0",
          "state": {
            "_dom_classes": [],
            "_model_module": "@jupyter-widgets/controls",
            "_model_module_version": "1.5.0",
            "_model_name": "HTMLModel",
            "_view_count": null,
            "_view_module": "@jupyter-widgets/controls",
            "_view_module_version": "1.5.0",
            "_view_name": "HTMLView",
            "description": "",
            "description_tooltip": null,
            "layout": "IPY_MODEL_f57275d756c3479c8e4cb1d752ca414b",
            "placeholder": "​",
            "style": "IPY_MODEL_e96d722bf1864eb1bfd49a09c7305c55",
            "value": " 4422102/4422102 [00:00&lt;00:00, 9353042.28it/s]"
          }
        },
        "3a469a75c975485b80675b1f8742ea9d": {
          "model_module": "@jupyter-widgets/base",
          "model_name": "LayoutModel",
          "model_module_version": "1.2.0",
          "state": {
            "_model_module": "@jupyter-widgets/base",
            "_model_module_version": "1.2.0",
            "_model_name": "LayoutModel",
            "_view_count": null,
            "_view_module": "@jupyter-widgets/base",
            "_view_module_version": "1.2.0",
            "_view_name": "LayoutView",
            "align_content": null,
            "align_items": null,
            "align_self": null,
            "border": null,
            "bottom": null,
            "display": null,
            "flex": null,
            "flex_flow": null,
            "grid_area": null,
            "grid_auto_columns": null,
            "grid_auto_flow": null,
            "grid_auto_rows": null,
            "grid_column": null,
            "grid_gap": null,
            "grid_row": null,
            "grid_template_areas": null,
            "grid_template_columns": null,
            "grid_template_rows": null,
            "height": null,
            "justify_content": null,
            "justify_items": null,
            "left": null,
            "margin": null,
            "max_height": null,
            "max_width": null,
            "min_height": null,
            "min_width": null,
            "object_fit": null,
            "object_position": null,
            "order": null,
            "overflow": null,
            "overflow_x": null,
            "overflow_y": null,
            "padding": null,
            "right": null,
            "top": null,
            "visibility": null,
            "width": null
          }
        },
        "52f1f771e54549e1b5d2e99b59940698": {
          "model_module": "@jupyter-widgets/base",
          "model_name": "LayoutModel",
          "model_module_version": "1.2.0",
          "state": {
            "_model_module": "@jupyter-widgets/base",
            "_model_module_version": "1.2.0",
            "_model_name": "LayoutModel",
            "_view_count": null,
            "_view_module": "@jupyter-widgets/base",
            "_view_module_version": "1.2.0",
            "_view_name": "LayoutView",
            "align_content": null,
            "align_items": null,
            "align_self": null,
            "border": null,
            "bottom": null,
            "display": null,
            "flex": null,
            "flex_flow": null,
            "grid_area": null,
            "grid_auto_columns": null,
            "grid_auto_flow": null,
            "grid_auto_rows": null,
            "grid_column": null,
            "grid_gap": null,
            "grid_row": null,
            "grid_template_areas": null,
            "grid_template_columns": null,
            "grid_template_rows": null,
            "height": null,
            "justify_content": null,
            "justify_items": null,
            "left": null,
            "margin": null,
            "max_height": null,
            "max_width": null,
            "min_height": null,
            "min_width": null,
            "object_fit": null,
            "object_position": null,
            "order": null,
            "overflow": null,
            "overflow_x": null,
            "overflow_y": null,
            "padding": null,
            "right": null,
            "top": null,
            "visibility": null,
            "width": null
          }
        },
        "7209f14feb10410ebdf1f211f885b2b0": {
          "model_module": "@jupyter-widgets/controls",
          "model_name": "DescriptionStyleModel",
          "model_module_version": "1.5.0",
          "state": {
            "_model_module": "@jupyter-widgets/controls",
            "_model_module_version": "1.5.0",
            "_model_name": "DescriptionStyleModel",
            "_view_count": null,
            "_view_module": "@jupyter-widgets/base",
            "_view_module_version": "1.2.0",
            "_view_name": "StyleView",
            "description_width": ""
          }
        },
        "c1a3c2039c6c491b85ab1386c5ce92f2": {
          "model_module": "@jupyter-widgets/base",
          "model_name": "LayoutModel",
          "model_module_version": "1.2.0",
          "state": {
            "_model_module": "@jupyter-widgets/base",
            "_model_module_version": "1.2.0",
            "_model_name": "LayoutModel",
            "_view_count": null,
            "_view_module": "@jupyter-widgets/base",
            "_view_module_version": "1.2.0",
            "_view_name": "LayoutView",
            "align_content": null,
            "align_items": null,
            "align_self": null,
            "border": null,
            "bottom": null,
            "display": null,
            "flex": null,
            "flex_flow": null,
            "grid_area": null,
            "grid_auto_columns": null,
            "grid_auto_flow": null,
            "grid_auto_rows": null,
            "grid_column": null,
            "grid_gap": null,
            "grid_row": null,
            "grid_template_areas": null,
            "grid_template_columns": null,
            "grid_template_rows": null,
            "height": null,
            "justify_content": null,
            "justify_items": null,
            "left": null,
            "margin": null,
            "max_height": null,
            "max_width": null,
            "min_height": null,
            "min_width": null,
            "object_fit": null,
            "object_position": null,
            "order": null,
            "overflow": null,
            "overflow_x": null,
            "overflow_y": null,
            "padding": null,
            "right": null,
            "top": null,
            "visibility": null,
            "width": null
          }
        },
        "fbf0f62c49fd4efa85296b9fbbff3886": {
          "model_module": "@jupyter-widgets/controls",
          "model_name": "ProgressStyleModel",
          "model_module_version": "1.5.0",
          "state": {
            "_model_module": "@jupyter-widgets/controls",
            "_model_module_version": "1.5.0",
            "_model_name": "ProgressStyleModel",
            "_view_count": null,
            "_view_module": "@jupyter-widgets/base",
            "_view_module_version": "1.2.0",
            "_view_name": "StyleView",
            "bar_color": null,
            "description_width": ""
          }
        },
        "f57275d756c3479c8e4cb1d752ca414b": {
          "model_module": "@jupyter-widgets/base",
          "model_name": "LayoutModel",
          "model_module_version": "1.2.0",
          "state": {
            "_model_module": "@jupyter-widgets/base",
            "_model_module_version": "1.2.0",
            "_model_name": "LayoutModel",
            "_view_count": null,
            "_view_module": "@jupyter-widgets/base",
            "_view_module_version": "1.2.0",
            "_view_name": "LayoutView",
            "align_content": null,
            "align_items": null,
            "align_self": null,
            "border": null,
            "bottom": null,
            "display": null,
            "flex": null,
            "flex_flow": null,
            "grid_area": null,
            "grid_auto_columns": null,
            "grid_auto_flow": null,
            "grid_auto_rows": null,
            "grid_column": null,
            "grid_gap": null,
            "grid_row": null,
            "grid_template_areas": null,
            "grid_template_columns": null,
            "grid_template_rows": null,
            "height": null,
            "justify_content": null,
            "justify_items": null,
            "left": null,
            "margin": null,
            "max_height": null,
            "max_width": null,
            "min_height": null,
            "min_width": null,
            "object_fit": null,
            "object_position": null,
            "order": null,
            "overflow": null,
            "overflow_x": null,
            "overflow_y": null,
            "padding": null,
            "right": null,
            "top": null,
            "visibility": null,
            "width": null
          }
        },
        "e96d722bf1864eb1bfd49a09c7305c55": {
          "model_module": "@jupyter-widgets/controls",
          "model_name": "DescriptionStyleModel",
          "model_module_version": "1.5.0",
          "state": {
            "_model_module": "@jupyter-widgets/controls",
            "_model_module_version": "1.5.0",
            "_model_name": "DescriptionStyleModel",
            "_view_count": null,
            "_view_module": "@jupyter-widgets/base",
            "_view_module_version": "1.2.0",
            "_view_name": "StyleView",
            "description_width": ""
          }
        },
        "c6be8d2d09844575b527b198d6c9bd6d": {
          "model_module": "@jupyter-widgets/controls",
          "model_name": "HBoxModel",
          "model_module_version": "1.5.0",
          "state": {
            "_dom_classes": [],
            "_model_module": "@jupyter-widgets/controls",
            "_model_module_version": "1.5.0",
            "_model_name": "HBoxModel",
            "_view_count": null,
            "_view_module": "@jupyter-widgets/controls",
            "_view_module_version": "1.5.0",
            "_view_name": "HBoxView",
            "box_style": "",
            "children": [
              "IPY_MODEL_069de2997a9a4954bec82408cbfadae3",
              "IPY_MODEL_899d616cd28f474cb2f22197347c7b0d",
              "IPY_MODEL_65c140974e914e58a7c1df99c2e9a98f"
            ],
            "layout": "IPY_MODEL_84cc29b8b9234b3ba6a635c54649cfcc"
          }
        },
        "069de2997a9a4954bec82408cbfadae3": {
          "model_module": "@jupyter-widgets/controls",
          "model_name": "HTMLModel",
          "model_module_version": "1.5.0",
          "state": {
            "_dom_classes": [],
            "_model_module": "@jupyter-widgets/controls",
            "_model_module_version": "1.5.0",
            "_model_name": "HTMLModel",
            "_view_count": null,
            "_view_module": "@jupyter-widgets/controls",
            "_view_module_version": "1.5.0",
            "_view_name": "HTMLView",
            "description": "",
            "description_tooltip": null,
            "layout": "IPY_MODEL_8f6cc1238cbc4b19976322763d84765b",
            "placeholder": "​",
            "style": "IPY_MODEL_33f874dcbc5748c7b5b3d21e6d0ef2ba",
            "value": "100%"
          }
        },
        "899d616cd28f474cb2f22197347c7b0d": {
          "model_module": "@jupyter-widgets/controls",
          "model_name": "FloatProgressModel",
          "model_module_version": "1.5.0",
          "state": {
            "_dom_classes": [],
            "_model_module": "@jupyter-widgets/controls",
            "_model_module_version": "1.5.0",
            "_model_name": "FloatProgressModel",
            "_view_count": null,
            "_view_module": "@jupyter-widgets/controls",
            "_view_module_version": "1.5.0",
            "_view_name": "ProgressView",
            "bar_style": "success",
            "description": "",
            "description_tooltip": null,
            "layout": "IPY_MODEL_31f5dc084694433aa08837bdad568b89",
            "max": 5148,
            "min": 0,
            "orientation": "horizontal",
            "style": "IPY_MODEL_728abd61859e4669803e5982ed15f940",
            "value": 5148
          }
        },
        "65c140974e914e58a7c1df99c2e9a98f": {
          "model_module": "@jupyter-widgets/controls",
          "model_name": "HTMLModel",
          "model_module_version": "1.5.0",
          "state": {
            "_dom_classes": [],
            "_model_module": "@jupyter-widgets/controls",
            "_model_module_version": "1.5.0",
            "_model_name": "HTMLModel",
            "_view_count": null,
            "_view_module": "@jupyter-widgets/controls",
            "_view_module_version": "1.5.0",
            "_view_name": "HTMLView",
            "description": "",
            "description_tooltip": null,
            "layout": "IPY_MODEL_2ee5d98067624ce2975e87a4e357390e",
            "placeholder": "​",
            "style": "IPY_MODEL_981f6671b8c548038c84e14f73041888",
            "value": " 5148/5148 [00:00&lt;00:00, 178699.64it/s]"
          }
        },
        "84cc29b8b9234b3ba6a635c54649cfcc": {
          "model_module": "@jupyter-widgets/base",
          "model_name": "LayoutModel",
          "model_module_version": "1.2.0",
          "state": {
            "_model_module": "@jupyter-widgets/base",
            "_model_module_version": "1.2.0",
            "_model_name": "LayoutModel",
            "_view_count": null,
            "_view_module": "@jupyter-widgets/base",
            "_view_module_version": "1.2.0",
            "_view_name": "LayoutView",
            "align_content": null,
            "align_items": null,
            "align_self": null,
            "border": null,
            "bottom": null,
            "display": null,
            "flex": null,
            "flex_flow": null,
            "grid_area": null,
            "grid_auto_columns": null,
            "grid_auto_flow": null,
            "grid_auto_rows": null,
            "grid_column": null,
            "grid_gap": null,
            "grid_row": null,
            "grid_template_areas": null,
            "grid_template_columns": null,
            "grid_template_rows": null,
            "height": null,
            "justify_content": null,
            "justify_items": null,
            "left": null,
            "margin": null,
            "max_height": null,
            "max_width": null,
            "min_height": null,
            "min_width": null,
            "object_fit": null,
            "object_position": null,
            "order": null,
            "overflow": null,
            "overflow_x": null,
            "overflow_y": null,
            "padding": null,
            "right": null,
            "top": null,
            "visibility": null,
            "width": null
          }
        },
        "8f6cc1238cbc4b19976322763d84765b": {
          "model_module": "@jupyter-widgets/base",
          "model_name": "LayoutModel",
          "model_module_version": "1.2.0",
          "state": {
            "_model_module": "@jupyter-widgets/base",
            "_model_module_version": "1.2.0",
            "_model_name": "LayoutModel",
            "_view_count": null,
            "_view_module": "@jupyter-widgets/base",
            "_view_module_version": "1.2.0",
            "_view_name": "LayoutView",
            "align_content": null,
            "align_items": null,
            "align_self": null,
            "border": null,
            "bottom": null,
            "display": null,
            "flex": null,
            "flex_flow": null,
            "grid_area": null,
            "grid_auto_columns": null,
            "grid_auto_flow": null,
            "grid_auto_rows": null,
            "grid_column": null,
            "grid_gap": null,
            "grid_row": null,
            "grid_template_areas": null,
            "grid_template_columns": null,
            "grid_template_rows": null,
            "height": null,
            "justify_content": null,
            "justify_items": null,
            "left": null,
            "margin": null,
            "max_height": null,
            "max_width": null,
            "min_height": null,
            "min_width": null,
            "object_fit": null,
            "object_position": null,
            "order": null,
            "overflow": null,
            "overflow_x": null,
            "overflow_y": null,
            "padding": null,
            "right": null,
            "top": null,
            "visibility": null,
            "width": null
          }
        },
        "33f874dcbc5748c7b5b3d21e6d0ef2ba": {
          "model_module": "@jupyter-widgets/controls",
          "model_name": "DescriptionStyleModel",
          "model_module_version": "1.5.0",
          "state": {
            "_model_module": "@jupyter-widgets/controls",
            "_model_module_version": "1.5.0",
            "_model_name": "DescriptionStyleModel",
            "_view_count": null,
            "_view_module": "@jupyter-widgets/base",
            "_view_module_version": "1.2.0",
            "_view_name": "StyleView",
            "description_width": ""
          }
        },
        "31f5dc084694433aa08837bdad568b89": {
          "model_module": "@jupyter-widgets/base",
          "model_name": "LayoutModel",
          "model_module_version": "1.2.0",
          "state": {
            "_model_module": "@jupyter-widgets/base",
            "_model_module_version": "1.2.0",
            "_model_name": "LayoutModel",
            "_view_count": null,
            "_view_module": "@jupyter-widgets/base",
            "_view_module_version": "1.2.0",
            "_view_name": "LayoutView",
            "align_content": null,
            "align_items": null,
            "align_self": null,
            "border": null,
            "bottom": null,
            "display": null,
            "flex": null,
            "flex_flow": null,
            "grid_area": null,
            "grid_auto_columns": null,
            "grid_auto_flow": null,
            "grid_auto_rows": null,
            "grid_column": null,
            "grid_gap": null,
            "grid_row": null,
            "grid_template_areas": null,
            "grid_template_columns": null,
            "grid_template_rows": null,
            "height": null,
            "justify_content": null,
            "justify_items": null,
            "left": null,
            "margin": null,
            "max_height": null,
            "max_width": null,
            "min_height": null,
            "min_width": null,
            "object_fit": null,
            "object_position": null,
            "order": null,
            "overflow": null,
            "overflow_x": null,
            "overflow_y": null,
            "padding": null,
            "right": null,
            "top": null,
            "visibility": null,
            "width": null
          }
        },
        "728abd61859e4669803e5982ed15f940": {
          "model_module": "@jupyter-widgets/controls",
          "model_name": "ProgressStyleModel",
          "model_module_version": "1.5.0",
          "state": {
            "_model_module": "@jupyter-widgets/controls",
            "_model_module_version": "1.5.0",
            "_model_name": "ProgressStyleModel",
            "_view_count": null,
            "_view_module": "@jupyter-widgets/base",
            "_view_module_version": "1.2.0",
            "_view_name": "StyleView",
            "bar_color": null,
            "description_width": ""
          }
        },
        "2ee5d98067624ce2975e87a4e357390e": {
          "model_module": "@jupyter-widgets/base",
          "model_name": "LayoutModel",
          "model_module_version": "1.2.0",
          "state": {
            "_model_module": "@jupyter-widgets/base",
            "_model_module_version": "1.2.0",
            "_model_name": "LayoutModel",
            "_view_count": null,
            "_view_module": "@jupyter-widgets/base",
            "_view_module_version": "1.2.0",
            "_view_name": "LayoutView",
            "align_content": null,
            "align_items": null,
            "align_self": null,
            "border": null,
            "bottom": null,
            "display": null,
            "flex": null,
            "flex_flow": null,
            "grid_area": null,
            "grid_auto_columns": null,
            "grid_auto_flow": null,
            "grid_auto_rows": null,
            "grid_column": null,
            "grid_gap": null,
            "grid_row": null,
            "grid_template_areas": null,
            "grid_template_columns": null,
            "grid_template_rows": null,
            "height": null,
            "justify_content": null,
            "justify_items": null,
            "left": null,
            "margin": null,
            "max_height": null,
            "max_width": null,
            "min_height": null,
            "min_width": null,
            "object_fit": null,
            "object_position": null,
            "order": null,
            "overflow": null,
            "overflow_x": null,
            "overflow_y": null,
            "padding": null,
            "right": null,
            "top": null,
            "visibility": null,
            "width": null
          }
        },
        "981f6671b8c548038c84e14f73041888": {
          "model_module": "@jupyter-widgets/controls",
          "model_name": "DescriptionStyleModel",
          "model_module_version": "1.5.0",
          "state": {
            "_model_module": "@jupyter-widgets/controls",
            "_model_module_version": "1.5.0",
            "_model_name": "DescriptionStyleModel",
            "_view_count": null,
            "_view_module": "@jupyter-widgets/base",
            "_view_module_version": "1.2.0",
            "_view_name": "StyleView",
            "description_width": ""
          }
        }
      }
    }
  },
  "nbformat": 4,
  "nbformat_minor": 0
}