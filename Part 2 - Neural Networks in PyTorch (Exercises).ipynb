{
  "cells": [
    {
      "cell_type": "markdown",
      "metadata": {
        "id": "view-in-github",
        "colab_type": "text"
      },
      "source": [
        "<a href=\"https://colab.research.google.com/github/mostafa-ja/intro-to-pytorch/blob/master/Part%202%20-%20Neural%20Networks%20in%20PyTorch%20(Exercises).ipynb\" target=\"_parent\"><img src=\"https://colab.research.google.com/assets/colab-badge.svg\" alt=\"Open In Colab\"/></a>"
      ]
    },
    {
      "cell_type": "markdown",
      "metadata": {
        "id": "7ydZQhf4YAbw"
      },
      "source": [
        "# Neural networks with PyTorch\n",
        "\n",
        "Deep learning networks tend to be massive with dozens or hundreds of layers, that's where the term \"deep\" comes from. You can build one of these deep networks using only weight matrices as we did in the previous notebook, but in general it's very cumbersome and difficult to implement. PyTorch has a nice module `nn` that provides a nice way to efficiently build large neural networks."
      ]
    },
    {
      "cell_type": "code",
      "execution_count": 46,
      "metadata": {
        "collapsed": true,
        "id": "kxUOI3MnYAb1"
      },
      "outputs": [],
      "source": [
        "# Import necessary packages\n",
        "\n",
        "%matplotlib inline\n",
        "%config InlineBackend.figure_format = 'retina'\n",
        "\n",
        "import numpy as np\n",
        "import torch\n",
        "\n",
        "import helper\n",
        "\n",
        "import matplotlib.pyplot as plt"
      ]
    },
    {
      "cell_type": "markdown",
      "metadata": {
        "id": "A4ya71NpYAb4"
      },
      "source": [
        "\n",
        "Now we're going to build a larger network that can solve a (formerly) difficult problem, identifying text in an image. Here we'll use the MNIST dataset which consists of greyscale handwritten digits. Each image is 28x28 pixels, you can see a sample below\n",
        "\n",
        "<img src='https://github.com/mostafa-ja/intro-to-pytorch/blob/master/assets/mnist.png?raw=1'>\n",
        "\n",
        "Our goal is to build a neural network that can take one of these images and predict the digit in the image.\n",
        "\n",
        "First up, we need to get our dataset. This is provided through the `torchvision` package. The code below will download the MNIST dataset, then create training and test datasets for us. Don't worry too much about the details here, you'll learn more about this later."
      ]
    },
    {
      "cell_type": "code",
      "execution_count": 47,
      "metadata": {
        "id": "mhKzwTIAYAb5"
      },
      "outputs": [],
      "source": [
        "# The MNIST datasets are hosted on yann.lecun.com that has moved under CloudFlare protection\n",
        "# Run this script to enable the datasets download\n",
        "# Reference: https://github.com/pytorch/vision/issues/1938\n",
        "\n",
        "from six.moves import urllib\n",
        "opener = urllib.request.build_opener()\n",
        "opener.addheaders = [('User-agent', 'Mozilla/5.0')]\n",
        "urllib.request.install_opener(opener)"
      ]
    },
    {
      "cell_type": "code",
      "execution_count": 48,
      "metadata": {
        "collapsed": true,
        "id": "tGpTsncbYAb6"
      },
      "outputs": [],
      "source": [
        "### Run this cell\n",
        "\n",
        "from torchvision import datasets, transforms\n",
        "\n",
        "# Define a transform to normalize the data\n",
        "transform = transforms.Compose([transforms.ToTensor(),\n",
        "                              transforms.Normalize((0.5,), (0.5,)),\n",
        "                              ])\n",
        "\n",
        "# Download and load the training data\n",
        "trainset = datasets.MNIST('~/.pytorch/MNIST_data/', download=True, train=True, transform=transform)\n",
        "trainloader = torch.utils.data.DataLoader(trainset, batch_size=64, shuffle=True)"
      ]
    },
    {
      "cell_type": "code",
      "source": [
        "trainset"
      ],
      "metadata": {
        "colab": {
          "base_uri": "https://localhost:8080/"
        },
        "id": "TafGsuDTYjFk",
        "outputId": "a647670c-b6bc-45c3-d374-40acddb51784"
      },
      "execution_count": 49,
      "outputs": [
        {
          "output_type": "execute_result",
          "data": {
            "text/plain": [
              "Dataset MNIST\n",
              "    Number of datapoints: 60000\n",
              "    Root location: /root/.pytorch/MNIST_data/\n",
              "    Split: Train\n",
              "    StandardTransform\n",
              "Transform: Compose(\n",
              "               ToTensor()\n",
              "               Normalize(mean=(0.5,), std=(0.5,))\n",
              "           )"
            ]
          },
          "metadata": {},
          "execution_count": 49
        }
      ]
    },
    {
      "cell_type": "markdown",
      "metadata": {
        "id": "L6XGsWFgYAb7"
      },
      "source": [
        "We have the training data loaded into `trainloader` and we make that an iterator with `iter(trainloader)`. Later, we'll use this to loop through the dataset for training, like\n",
        "\n",
        "```python\n",
        "for image, label in trainloader:\n",
        "    ## do things with images and labels\n",
        "```\n",
        "\n",
        "You'll notice I created the `trainloader` with a batch size of 64, and `shuffle=True`. The batch size is the number of images we get in one iteration from the data loader and pass through our network, often called a *batch*. And `shuffle=True` tells it to shuffle the dataset every time we start going through the data loader again. But here I'm just grabbing the first batch so we can check out the data. We can see below that `images` is just a tensor with size `(64, 1, 28, 28)`. So, 64 images per batch, 1 color channel, and 28x28 images."
      ]
    },
    {
      "cell_type": "code",
      "execution_count": 50,
      "metadata": {
        "collapsed": true,
        "colab": {
          "base_uri": "https://localhost:8080/"
        },
        "id": "s7PwUPZTYAb8",
        "outputId": "58e7952e-823b-4b52-fa71-fbe50d7471c7"
      },
      "outputs": [
        {
          "output_type": "stream",
          "name": "stdout",
          "text": [
            "<class 'torch.Tensor'>\n",
            "torch.Size([64, 1, 28, 28])\n",
            "torch.Size([64])\n"
          ]
        }
      ],
      "source": [
        "dataiter = iter(trainloader)\n",
        "images, labels = next(dataiter)\n",
        "print(type(images))\n",
        "print(images.shape)\n",
        "print(labels.shape)"
      ]
    },
    {
      "cell_type": "markdown",
      "metadata": {
        "id": "2djK46T5YAb-"
      },
      "source": [
        "This is what one of the images looks like. "
      ]
    },
    {
      "cell_type": "code",
      "source": [
        "images[1].numpy().squeeze().shape"
      ],
      "metadata": {
        "colab": {
          "base_uri": "https://localhost:8080/"
        },
        "id": "AqQ5B3czY5ss",
        "outputId": "8aea706f-747c-4e98-ba08-c6c114ebf714"
      },
      "execution_count": 51,
      "outputs": [
        {
          "output_type": "execute_result",
          "data": {
            "text/plain": [
              "(28, 28)"
            ]
          },
          "metadata": {},
          "execution_count": 51
        }
      ]
    },
    {
      "cell_type": "code",
      "execution_count": 52,
      "metadata": {
        "collapsed": true,
        "colab": {
          "base_uri": "https://localhost:8080/",
          "height": 265
        },
        "id": "-ruBQheZYAb-",
        "outputId": "2f1a938d-4f9c-4a4a-dd84-5613d903df23"
      },
      "outputs": [
        {
          "output_type": "display_data",
          "data": {
            "text/plain": [
              "<Figure size 432x288 with 1 Axes>"
            ],
            "image/png": "[encoded data removed]"
          },
          "metadata": {
            "image/png": {
              "width": 251,
              "height": 248
            },
            "needs_background": "light"
          }
        }
      ],
      "source": [
        "plt.imshow(images[1].numpy().squeeze(), cmap='Greys_r');"
      ]
    },
    {
      "cell_type": "markdown",
      "metadata": {
        "id": "yUpAwBDAYAb_"
      },
      "source": [
        "First, let's try to build a simple network for this dataset using weight matrices and matrix multiplications. Then, we'll see how to do it using PyTorch's `nn` module which provides a much more convenient and powerful method for defining network architectures.\n",
        "\n",
        "The networks you've seen so far are called *fully-connected* or *dense* networks. Each unit in one layer is connected to each unit in the next layer. In fully-connected networks, the input to each layer must be a one-dimensional vector (which can be stacked into a 2D tensor as a batch of multiple examples). However, our images are 28x28 2D tensors, so we need to convert them into 1D vectors. Thinking about sizes, we need to convert the batch of images with shape `(64, 1, 28, 28)` to a have a shape of `(64, 784)`, 784 is 28 times 28. This is typically called *flattening*, we flattened the 2D images into 1D vectors.\n",
        "\n",
        "Previously you built a network with one output unit. Here we need 10 output units, one for each digit. We want our network to predict the digit shown in an image, so what we'll do is calculate probabilities that the image is of any one digit or class. This ends up being a discrete probability distribution over the classes (digits) that tells us the most likely class for the image. That means we need 10 output units for the 10 classes (digits). We'll see how to convert the network output into a probability distribution next.\n",
        "\n",
        "> **Exercise:** Flatten the batch of images `images`. Then build a multi-layer network with 784 input units, 256 hidden units, and 10 output units using random tensors for the weights and biases. For now, use a sigmoid activation for the hidden layer. Leave the output layer without an activation, we'll add one that gives us a probability distribution next."
      ]
    },
    {
      "cell_type": "code",
      "source": [
        "images.shape"
      ],
      "metadata": {
        "colab": {
          "base_uri": "https://localhost:8080/"
        },
        "id": "qTywV-4maky3",
        "outputId": "59236693-85eb-4fca-9cda-076b76c2731e"
      },
      "execution_count": 53,
      "outputs": [
        {
          "output_type": "execute_result",
          "data": {
            "text/plain": [
              "torch.Size([64, 1, 28, 28])"
            ]
          },
          "metadata": {},
          "execution_count": 53
        }
      ]
    },
    {
      "cell_type": "code",
      "execution_count": 54,
      "metadata": {
        "collapsed": true,
        "colab": {
          "base_uri": "https://localhost:8080/"
        },
        "id": "6VqFgWpDYAcA",
        "outputId": "91fc4e18-6827-42f7-e25f-be4ff46e0eae"
      },
      "outputs": [
        {
          "output_type": "stream",
          "name": "stdout",
          "text": [
            "torch.Size([64, 10])\n",
            "tensor([[9.9990e-01, 9.7816e-01, 6.1188e-01, 2.5109e-03, 1.7252e-02, 2.3995e-06,\n",
            "         2.2157e-01, 1.2007e-07, 5.4081e-04, 1.2699e-04],\n",
            "        [1.0000e+00, 9.8704e-01, 9.5705e-01, 9.5642e-03, 9.9992e-01, 2.0671e-10,\n",
            "         4.8796e-03, 2.9537e-09, 5.2702e-05, 1.9266e-02],\n",
            "        [1.0000e+00, 2.2881e-02, 3.4026e-01, 2.8043e-05, 9.9981e-01, 1.9342e-08,\n",
            "         1.2603e-02, 1.2621e-09, 4.8310e-02, 1.2231e-06],\n",
            "        [9.9999e-01, 7.1716e-02, 1.4450e-01, 4.7288e-02, 1.6292e-03, 5.1139e-10,\n",
            "         2.4497e-07, 6.9157e-04, 9.1084e-01, 9.2408e-01],\n",
            "        [9.9808e-01, 1.1530e-01, 9.6557e-01, 8.9583e-09, 2.1803e-01, 1.1267e-08,\n",
            "         7.1249e-09, 4.1221e-04, 9.8167e-01, 9.8203e-06],\n",
            "        [9.1843e-01, 7.5691e-01, 9.9855e-01, 1.1870e-03, 6.3368e-03, 3.6831e-07,\n",
            "         2.5599e-06, 2.1220e-03, 2.7071e-04, 1.1610e-04],\n",
            "        [9.9948e-01, 2.6363e-02, 9.9656e-01, 3.6423e-06, 7.6898e-01, 1.1554e-06,\n",
            "         6.4380e-04, 1.1101e-08, 9.4466e-01, 3.1069e-08],\n",
            "        [1.0000e+00, 1.0000e+00, 9.7824e-01, 5.7324e-04, 9.3982e-01, 2.8671e-10,\n",
            "         8.9557e-04, 5.3823e-09, 5.0081e-01, 1.3043e-02],\n",
            "        [6.9536e-01, 2.9190e-01, 3.8580e-01, 1.1431e-06, 5.8791e-02, 4.5800e-10,\n",
            "         4.4273e-06, 1.6784e-09, 1.4288e-03, 5.2993e-07],\n",
            "        [1.0000e+00, 3.8456e-02, 9.3401e-01, 9.5663e-03, 9.9969e-01, 1.8041e-09,\n",
            "         5.0776e-06, 2.0140e-06, 7.5278e-01, 4.1221e-05],\n",
            "        [9.9979e-01, 4.8132e-01, 9.6305e-01, 1.1604e-02, 9.9962e-01, 8.0471e-06,\n",
            "         1.9632e-01, 1.4853e-07, 9.9917e-01, 3.2353e-05],\n",
            "        [1.0000e+00, 5.6710e-05, 9.6936e-01, 1.3703e-02, 9.1760e-01, 1.7888e-08,\n",
            "         6.5043e-03, 1.6721e-07, 2.5394e-06, 7.7102e-09],\n",
            "        [9.9995e-01, 2.5583e-04, 9.6862e-01, 4.1817e-07, 8.1778e-01, 5.3484e-09,\n",
            "         1.7813e-06, 4.1982e-05, 7.8492e-01, 2.5774e-04],\n",
            "        [9.9972e-01, 9.1462e-01, 9.9238e-01, 1.3455e-05, 9.5774e-01, 3.5543e-08,\n",
            "         7.4597e-07, 3.0572e-07, 1.7415e-02, 2.2577e-07],\n",
            "        [9.9942e-01, 2.0056e-03, 9.9059e-01, 5.5971e-03, 9.0029e-01, 3.5711e-08,\n",
            "         1.1761e-03, 1.8302e-09, 2.3769e-05, 6.6629e-07],\n",
            "        [2.4999e-01, 2.9464e-02, 2.7184e-01, 3.8659e-04, 2.2908e-05, 1.6285e-05,\n",
            "         1.4199e-03, 6.1592e-06, 6.4208e-04, 6.3901e-07],\n",
            "        [9.4763e-01, 7.0001e-01, 9.7586e-01, 3.8487e-07, 3.2819e-02, 4.5336e-12,\n",
            "         2.7552e-05, 2.4394e-07, 9.9595e-01, 2.8633e-01],\n",
            "        [9.9804e-01, 7.1143e-01, 2.5145e-03, 1.5293e-02, 9.5777e-01, 5.8527e-09,\n",
            "         4.2768e-05, 1.5000e-09, 9.9994e-01, 1.2659e-04],\n",
            "        [9.9961e-01, 6.4629e-05, 8.7546e-01, 6.6796e-07, 9.9828e-01, 2.4494e-09,\n",
            "         1.6453e-04, 1.1018e-11, 9.9988e-01, 3.1040e-02],\n",
            "        [9.9805e-01, 1.0000e+00, 9.9737e-01, 2.7806e-03, 9.9497e-01, 5.3564e-09,\n",
            "         1.9228e-03, 1.0830e-05, 5.2449e-01, 8.1675e-04],\n",
            "        [9.9992e-01, 9.9030e-01, 9.6461e-01, 5.3431e-01, 9.4947e-01, 1.9041e-10,\n",
            "         1.7265e-08, 3.8076e-09, 9.5911e-01, 1.8561e-06],\n",
            "        [7.5867e-01, 9.7158e-01, 9.9982e-01, 1.2358e-06, 9.9983e-01, 1.8522e-09,\n",
            "         1.7677e-04, 1.1467e-06, 2.9596e-01, 5.3380e-01],\n",
            "        [9.4261e-01, 9.9988e-01, 8.1097e-01, 8.8936e-07, 9.9403e-01, 2.0646e-08,\n",
            "         2.3241e-05, 7.8027e-05, 8.1512e-02, 2.5827e-03],\n",
            "        [9.9991e-01, 1.0918e-01, 9.1248e-01, 4.8158e-04, 3.4608e-03, 1.8210e-06,\n",
            "         2.1796e-05, 2.5218e-07, 9.9976e-01, 5.2612e-10],\n",
            "        [9.9975e-01, 2.2096e-01, 9.9764e-01, 7.2161e-07, 9.8788e-01, 7.5097e-09,\n",
            "         9.6272e-08, 2.4484e-09, 2.9514e-04, 4.2526e-02],\n",
            "        [9.9033e-01, 9.9988e-01, 9.9558e-01, 4.8486e-04, 1.5065e-02, 1.6505e-06,\n",
            "         2.8767e-02, 1.0460e-07, 1.2513e-04, 5.2658e-08],\n",
            "        [9.9933e-01, 9.9951e-01, 9.9999e-01, 1.1714e-04, 6.2201e-03, 1.9356e-10,\n",
            "         6.0339e-04, 1.3329e-05, 1.2689e-03, 2.7217e-01],\n",
            "        [9.5954e-01, 8.5713e-01, 9.7561e-01, 7.1837e-04, 7.8717e-01, 2.1659e-10,\n",
            "         8.8980e-02, 4.4761e-05, 9.5322e-01, 1.4477e-01],\n",
            "        [9.9998e-01, 1.3775e-01, 9.9960e-01, 1.0606e-02, 1.2067e-01, 1.5473e-05,\n",
            "         1.9778e-04, 1.0485e-06, 6.7912e-01, 7.0803e-01],\n",
            "        [9.8626e-01, 7.5144e-01, 9.9711e-01, 8.8880e-01, 9.8027e-01, 1.5075e-07,\n",
            "         9.2624e-04, 4.1695e-03, 7.4192e-02, 1.0007e-07],\n",
            "        [9.5586e-01, 9.9762e-01, 4.9378e-01, 5.3994e-03, 1.1325e-05, 1.8425e-09,\n",
            "         1.6968e-05, 9.7941e-08, 1.7762e-03, 2.2517e-03],\n",
            "        [8.0463e-02, 9.2325e-01, 9.9999e-01, 3.3059e-06, 9.9527e-01, 5.1738e-07,\n",
            "         7.3351e-04, 7.9270e-11, 8.6532e-01, 1.6523e-03],\n",
            "        [9.9998e-01, 9.2570e-01, 9.9999e-01, 4.6584e-03, 4.0005e-01, 3.6305e-11,\n",
            "         2.3424e-03, 4.3181e-07, 5.0383e-01, 1.7894e-07],\n",
            "        [9.6330e-01, 4.1094e-02, 9.5767e-01, 4.9685e-07, 7.2570e-01, 9.9588e-11,\n",
            "         7.2182e-04, 1.0564e-04, 1.4209e-02, 9.2479e-04],\n",
            "        [2.5521e-01, 9.9997e-01, 2.0750e-01, 3.9099e-04, 8.7592e-02, 5.0402e-07,\n",
            "         9.4505e-03, 3.2773e-06, 1.5066e-01, 1.8600e-02],\n",
            "        [3.0913e-02, 8.3851e-01, 9.9132e-01, 1.0004e-05, 9.9910e-01, 7.3716e-09,\n",
            "         3.1530e-03, 4.5155e-08, 8.5716e-01, 9.7019e-02],\n",
            "        [9.9989e-01, 1.3780e-01, 6.9206e-01, 4.1428e-06, 7.0836e-01, 1.0097e-07,\n",
            "         1.7112e-06, 4.2197e-05, 8.7155e-01, 7.2472e-06],\n",
            "        [1.0000e+00, 9.9688e-01, 9.9965e-01, 9.7029e-01, 9.9999e-01, 6.1395e-09,\n",
            "         2.3133e-03, 1.4519e-06, 8.4507e-01, 5.4153e-02],\n",
            "        [9.9759e-01, 7.2016e-01, 9.8820e-01, 3.1731e-06, 7.4813e-01, 4.9130e-06,\n",
            "         1.2670e-01, 2.1572e-05, 9.9991e-01, 8.2721e-02],\n",
            "        [9.9818e-01, 1.1346e-05, 4.8979e-01, 2.7051e-03, 9.9310e-01, 6.0074e-10,\n",
            "         5.8789e-01, 1.4062e-10, 2.8236e-03, 1.3128e-07],\n",
            "        [1.0000e+00, 9.3666e-01, 9.9775e-01, 1.7192e-03, 8.5508e-05, 9.8866e-07,\n",
            "         3.5193e-03, 2.0653e-05, 9.2092e-01, 2.0478e-07],\n",
            "        [9.9746e-01, 9.9706e-01, 9.9202e-01, 1.7985e-01, 9.9026e-01, 3.0684e-09,\n",
            "         3.5103e-07, 2.8483e-09, 1.4566e-01, 3.7455e-03],\n",
            "        [3.8954e-01, 9.8878e-01, 9.8665e-01, 1.1560e-02, 5.0780e-02, 1.9323e-08,\n",
            "         1.0267e-04, 1.0988e-04, 4.3861e-02, 6.6469e-07],\n",
            "        [9.9944e-01, 5.6704e-03, 9.9834e-01, 3.4923e-05, 4.6774e-01, 1.7650e-09,\n",
            "         5.6789e-02, 3.4152e-05, 2.0699e-01, 1.6513e-09],\n",
            "        [9.8361e-01, 9.5491e-01, 9.8873e-01, 3.9852e-04, 9.9996e-01, 5.5496e-09,\n",
            "         8.9706e-06, 4.1733e-05, 7.5487e-02, 7.2525e-03],\n",
            "        [9.9992e-01, 3.4108e-03, 6.7778e-01, 1.6615e-06, 4.7436e-03, 4.6761e-06,\n",
            "         8.3764e-03, 8.4276e-07, 2.8859e-03, 9.8485e-03],\n",
            "        [9.0142e-01, 8.0077e-02, 4.6820e-03, 3.5712e-11, 9.0242e-01, 8.1446e-07,\n",
            "         2.1234e-03, 1.5953e-04, 9.9996e-01, 6.3720e-05],\n",
            "        [9.8416e-01, 6.5778e-05, 9.8447e-01, 1.3374e-02, 4.2070e-01, 1.0837e-11,\n",
            "         2.8823e-03, 4.2054e-05, 8.9628e-03, 3.7092e-07],\n",
            "        [1.0000e+00, 9.9595e-01, 9.9998e-01, 9.9998e-01, 9.9649e-01, 1.0214e-06,\n",
            "         1.3850e-05, 1.7637e-08, 4.8046e-02, 2.7202e-08],\n",
            "        [9.2218e-01, 9.9648e-01, 9.9794e-01, 3.3636e-05, 3.8937e-04, 2.8490e-07,\n",
            "         9.9897e-04, 1.1338e-03, 2.2913e-05, 1.8416e-04],\n",
            "        [9.9934e-01, 2.3136e-03, 9.9674e-01, 2.7105e-08, 5.7400e-01, 5.6948e-07,\n",
            "         2.7475e-03, 1.0197e-07, 1.3901e-02, 1.6616e-08],\n",
            "        [9.2205e-01, 6.7037e-01, 9.9768e-01, 2.8706e-04, 9.8821e-01, 6.0500e-11,\n",
            "         4.7884e-05, 5.0022e-03, 5.2847e-01, 3.3166e-07],\n",
            "        [9.9997e-01, 5.5719e-02, 8.6648e-01, 5.6642e-05, 5.0362e-01, 5.5886e-04,\n",
            "         8.8653e-02, 7.6108e-07, 9.4510e-01, 7.6956e-07],\n",
            "        [7.7375e-01, 2.8135e-02, 9.8622e-01, 9.6074e-06, 8.4501e-01, 4.2936e-13,\n",
            "         5.2535e-02, 7.5211e-08, 5.8381e-03, 2.3818e-05],\n",
            "        [9.9976e-01, 9.9841e-01, 6.3946e-01, 1.9685e-04, 5.0986e-01, 3.7904e-09,\n",
            "         1.4081e-05, 3.0527e-02, 4.1110e-01, 1.1861e-03],\n",
            "        [9.4687e-01, 6.3290e-01, 9.9833e-01, 9.0747e-05, 1.4264e-04, 6.3404e-09,\n",
            "         3.0474e-04, 1.8413e-03, 2.2661e-05, 1.1802e-07],\n",
            "        [9.9849e-01, 5.1630e-03, 3.7492e-02, 1.5965e-05, 3.3894e-02, 1.6400e-10,\n",
            "         1.1202e-03, 9.8544e-09, 9.9801e-03, 7.0485e-05],\n",
            "        [9.9986e-01, 1.0000e+00, 9.9983e-01, 1.4327e-01, 9.9309e-01, 9.1009e-13,\n",
            "         2.0850e-07, 1.4557e-05, 1.1740e-04, 2.3551e-01],\n",
            "        [8.4591e-01, 8.7811e-01, 9.3554e-01, 2.9536e-06, 1.0041e-03, 1.6938e-09,\n",
            "         7.4545e-04, 1.1314e-04, 2.4527e-03, 9.1229e-08],\n",
            "        [9.9909e-01, 9.9695e-01, 9.7243e-01, 3.1971e-04, 9.7102e-01, 1.5440e-10,\n",
            "         5.2237e-03, 1.5724e-09, 7.1408e-01, 5.2191e-07],\n",
            "        [9.9982e-01, 9.4228e-01, 9.6779e-01, 2.7410e-05, 4.2354e-01, 9.9711e-07,\n",
            "         2.3414e-01, 8.2206e-05, 6.2420e-01, 8.7779e-07],\n",
            "        [5.0294e-01, 9.9610e-01, 9.9961e-01, 1.3420e-04, 6.8198e-01, 2.8669e-05,\n",
            "         8.9295e-03, 7.3133e-01, 2.6350e-03, 1.7992e-06],\n",
            "        [6.0091e-01, 9.6304e-01, 2.1331e-02, 1.6603e-06, 4.0907e-01, 2.3470e-11,\n",
            "         8.5594e-04, 1.2018e-05, 3.9869e-02, 4.8266e-06],\n",
            "        [9.9941e-01, 7.9345e-01, 9.9155e-01, 3.7628e-01, 9.1985e-01, 2.1063e-11,\n",
            "         7.0368e-08, 5.7518e-06, 6.5385e-01, 6.1514e-06]])\n"
          ]
        }
      ],
      "source": [
        "## Your solution\n",
        "\n",
        "def activation(x):\n",
        "  return 1./(1+torch.exp(-x))\n",
        "\n",
        "n_features = 784\n",
        "n_hidden = 256\n",
        "n_output = 10\n",
        "\n",
        "inputs = images.view(images.shape[0],-1)\n",
        "W1 = torch.randn(n_features,n_hidden)\n",
        "W2 = torch.randn(n_hidden,n_output)\n",
        "B1 = torch.randn(1,n_hidden)\n",
        "B2 = torch.randn(1,n_output)\n",
        "\n",
        "H = activation(torch.mm(inputs,W1) + B1)\n",
        "output = activation(torch.mm(H,W2) + B2)\n",
        "print(output.shape)\n",
        "print(output)\n"
      ]
    },
    {
      "cell_type": "markdown",
      "metadata": {
        "id": "M9MHg4iNYAcB"
      },
      "source": [
        "Now we have 10 outputs for our network. We want to pass in an image to our network and get out a probability distribution over the classes that tells us the likely class(es) the image belongs to. Something that looks like this:\n",
        "<img src='https://github.com/mostafa-ja/intro-to-pytorch/blob/master/assets/image_distribution.png?raw=1' width=500px>\n",
        "\n",
        "Here we see that the probability for each class is roughly the same. This is representing an untrained network, it hasn't seen any data yet so it just returns a uniform distribution with equal probabilities for each class.\n",
        "\n",
        "To calculate this probability distribution, we often use the [**softmax** function](https://en.wikipedia.org/wiki/Softmax_function). Mathematically this looks like\n",
        "\n",
        "$$\n",
        "\\Large \\sigma(x_i) = \\cfrac{e^{x_i}}{\\sum_k^K{e^{x_k}}}\n",
        "$$\n",
        "\n",
        "What this does is squish each input $x_i$ between 0 and 1 and normalizes the values to give you a proper probability distribution where the probabilites sum up to one.\n",
        "\n",
        "> **Exercise:** Implement a function `softmax` that performs the softmax calculation and returns probability distributions for each example in the batch. Note that you'll need to pay attention to the shapes when doing this. If you have a tensor `a` with shape `(64, 10)` and a tensor `b` with shape `(64,)`, doing `a/b` will give you an error because PyTorch will try to do the division across the columns (called broadcasting) but you'll get a size mismatch. The way to think about this is for each of the 64 examples, you only want to divide by one value, the sum in the denominator. So you need `b` to have a shape of `(64, 1)`. This way PyTorch will divide the 10 values in each row of `a` by the one value in each row of `b`. Pay attention to how you take the sum as well. You'll need to define the `dim` keyword in `torch.sum`. Setting `dim=0` takes the sum across the rows while `dim=1` takes the sum across the columns."
      ]
    },
    {
      "cell_type": "code",
      "execution_count": 55,
      "metadata": {
        "collapsed": true,
        "colab": {
          "base_uri": "https://localhost:8080/"
        },
        "id": "LIivXnFDYAcB",
        "outputId": "792f3d9b-de4e-4f5b-868c-b14fedc4d4f8"
      },
      "outputs": [
        {
          "output_type": "stream",
          "name": "stdout",
          "text": [
            "torch.Size([64, 10])\n",
            "tensor([1.0000, 1.0000, 1.0000, 1.0000, 1.0000, 1.0000, 1.0000, 1.0000, 1.0000,\n",
            "        1.0000, 1.0000, 1.0000, 1.0000, 1.0000, 1.0000, 1.0000, 1.0000, 1.0000,\n",
            "        1.0000, 1.0000, 1.0000, 1.0000, 1.0000, 1.0000, 1.0000, 1.0000, 1.0000,\n",
            "        1.0000, 1.0000, 1.0000, 1.0000, 1.0000, 1.0000, 1.0000, 1.0000, 1.0000,\n",
            "        1.0000, 1.0000, 1.0000, 1.0000, 1.0000, 1.0000, 1.0000, 1.0000, 1.0000,\n",
            "        1.0000, 1.0000, 1.0000, 1.0000, 1.0000, 1.0000, 1.0000, 1.0000, 1.0000,\n",
            "        1.0000, 1.0000, 1.0000, 1.0000, 1.0000, 1.0000, 1.0000, 1.0000, 1.0000,\n",
            "        1.0000])\n"
          ]
        }
      ],
      "source": [
        "def softmax(x):\n",
        "  return torch.exp(x)/torch.sum(torch.exp(x),dim=1).view(-1,1)    \n",
        "\n",
        "# Here, out should be the output of the network in the previous excercise with shape (64,10)\n",
        "probabilities = softmax(output)\n",
        "\n",
        "# Does it have the right shape? Should be (64, 10)\n",
        "print(probabilities.shape)\n",
        "# Does it sum to 1?\n",
        "print(probabilities.sum(dim=1))"
      ]
    },
    {
      "cell_type": "markdown",
      "metadata": {
        "id": "GNtpFzywYAcC"
      },
      "source": [
        "## Building networks with PyTorch\n",
        "\n",
        "PyTorch provides a module `nn` that makes building networks much simpler. Here I'll show you how to build the same one as above with 784 inputs, 256 hidden units, 10 output units and a softmax output."
      ]
    },
    {
      "cell_type": "code",
      "execution_count": 56,
      "metadata": {
        "collapsed": true,
        "id": "1sOtDYUMYAcC"
      },
      "outputs": [],
      "source": [
        "from torch import nn"
      ]
    },
    {
      "cell_type": "code",
      "execution_count": 57,
      "metadata": {
        "collapsed": true,
        "id": "EJ8FZSfDYAcD"
      },
      "outputs": [],
      "source": [
        "class Network(nn.Module):\n",
        "    def __init__(self):\n",
        "        super().__init__()\n",
        "        \n",
        "        # Inputs to hidden layer linear transformation\n",
        "        self.hidden = nn.Linear(784, 256)\n",
        "        # Output layer, 10 units - one for each digit\n",
        "        self.output = nn.Linear(256, 10)\n",
        "        \n",
        "        # Define sigmoid activation and softmax output \n",
        "        self.sigmoid = nn.Sigmoid()\n",
        "        self.softmax = nn.Softmax(dim=1)\n",
        "        \n",
        "    def forward(self, x):\n",
        "        # Pass the input tensor through each of our operations\n",
        "        x = self.hidden(x)\n",
        "        x = self.sigmoid(x)\n",
        "        x = self.output(x)\n",
        "        x = self.softmax(x)\n",
        "        \n",
        "        return x"
      ]
    },
    {
      "cell_type": "markdown",
      "metadata": {
        "id": "btxZzPtCYAcD"
      },
      "source": [
        "Let's go through this bit by bit.\n",
        "\n",
        "```python\n",
        "class Network(nn.Module):\n",
        "```\n",
        "\n",
        "Here we're inheriting from `nn.Module`. Combined with `super().__init__()` this creates a class that tracks the architecture and provides a lot of useful methods and attributes. It is mandatory to inherit from `nn.Module` when you're creating a class for your network. The name of the class itself can be anything.\n",
        "\n",
        "```python\n",
        "self.hidden = nn.Linear(784, 256)\n",
        "```\n",
        "\n",
        "This line creates a module for a linear transformation, $x\\mathbf{W} + b$, with 784 inputs and 256 outputs and assigns it to `self.hidden`. The module automatically creates the weight and bias tensors which we'll use in the `forward` method. You can access the weight and bias tensors once the network (`net`) is created with `net.hidden.weight` and `net.hidden.bias`.\n",
        "\n",
        "```python\n",
        "self.output = nn.Linear(256, 10)\n",
        "```\n",
        "\n",
        "Similarly, this creates another linear transformation with 256 inputs and 10 outputs.\n",
        "\n",
        "```python\n",
        "self.sigmoid = nn.Sigmoid()\n",
        "self.softmax = nn.Softmax(dim=1)\n",
        "```\n",
        "\n",
        "Here I defined operations for the sigmoid activation and softmax output. Setting `dim=1` in `nn.Softmax(dim=1)` calculates softmax across the columns.\n",
        "\n",
        "```python\n",
        "def forward(self, x):\n",
        "```\n",
        "\n",
        "PyTorch networks created with `nn.Module` must have a `forward` method defined. It takes in a tensor `x` and passes it through the operations you defined in the `__init__` method.\n",
        "\n",
        "```python\n",
        "x = self.hidden(x)\n",
        "x = self.sigmoid(x)\n",
        "x = self.output(x)\n",
        "x = self.softmax(x)\n",
        "```\n",
        "\n",
        "Here the input tensor `x` is passed through each operation and reassigned to `x`. We can see that the input tensor goes through the hidden layer, then a sigmoid function, then the output layer, and finally the softmax function. It doesn't matter what you name the variables here, as long as the inputs and outputs of the operations match the network architecture you want to build. The order in which you define things in the `__init__` method doesn't matter, but you'll need to sequence the operations correctly in the `forward` method.\n",
        "\n",
        "Now we can create a `Network` object."
      ]
    },
    {
      "cell_type": "code",
      "execution_count": 58,
      "metadata": {
        "collapsed": true,
        "colab": {
          "base_uri": "https://localhost:8080/"
        },
        "id": "1KOeCAPlYAcE",
        "outputId": "9ac19bd1-c6e6-479a-b61f-d2a5bb244086"
      },
      "outputs": [
        {
          "output_type": "execute_result",
          "data": {
            "text/plain": [
              "Network(\n",
              "  (hidden): Linear(in_features=784, out_features=256, bias=True)\n",
              "  (output): Linear(in_features=256, out_features=10, bias=True)\n",
              "  (sigmoid): Sigmoid()\n",
              "  (softmax): Softmax(dim=1)\n",
              ")"
            ]
          },
          "metadata": {},
          "execution_count": 58
        }
      ],
      "source": [
        "# Create the network and look at it's text representation\n",
        "model = Network()\n",
        "model"
      ]
    },
    {
      "cell_type": "markdown",
      "metadata": {
        "id": "vy3oUuITYAcF"
      },
      "source": [
        "You can define the network somewhat more concisely and clearly using the `torch.nn.functional` module. This is the most common way you'll see networks defined as many operations are simple element-wise functions. We normally import this module as `F`, `import torch.nn.functional as F`."
      ]
    },
    {
      "cell_type": "code",
      "execution_count": 59,
      "metadata": {
        "collapsed": true,
        "id": "htnWXm4fYAcF"
      },
      "outputs": [],
      "source": [
        "import torch.nn.functional as F\n",
        "\n",
        "class Network(nn.Module):\n",
        "    def __init__(self):\n",
        "        super().__init__()\n",
        "        # Inputs to hidden layer linear transformation\n",
        "        self.hidden = nn.Linear(784, 256)\n",
        "        # Output layer, 10 units - one for each digit\n",
        "        self.output = nn.Linear(256, 10)\n",
        "        \n",
        "    def forward(self, x):\n",
        "        # Hidden layer with sigmoid activation\n",
        "        x = F.sigmoid(self.hidden(x))\n",
        "        # Output layer with softmax activation\n",
        "        x = F.softmax(self.output(x), dim=1)\n",
        "        \n",
        "        return x"
      ]
    },
    {
      "cell_type": "markdown",
      "metadata": {
        "id": "mCHag0fZYAcG"
      },
      "source": [
        "### Activation functions\n",
        "\n",
        "So far we've only been looking at the sigmoid activation function, but in general any function can be used as an activation function. The only requirement is that for a network to approximate a non-linear function, the activation functions must be non-linear. Here are a few more examples of common activation functions: Tanh (hyperbolic tangent), and ReLU (rectified linear unit).\n",
        "\n",
        "<img src=\"https://github.com/mostafa-ja/intro-to-pytorch/blob/master/assets/activation.png?raw=1\" width=700px>\n",
        "\n",
        "In practice, the ReLU function is used almost exclusively as the activation function for hidden layers."
      ]
    },
    {
      "cell_type": "markdown",
      "metadata": {
        "id": "NbdQIMz5YAcH"
      },
      "source": [
        "### Your Turn to Build a Network\n",
        "\n",
        "<img src=\"https://github.com/mostafa-ja/intro-to-pytorch/blob/master/assets/mlp_mnist.png?raw=1\" width=600px>\n",
        "\n",
        "> **Exercise:** Create a network with 784 input units, a hidden layer with 128 units and a ReLU activation, then a hidden layer with 64 units and a ReLU activation, and finally an output layer with a softmax activation as shown above. You can use a ReLU activation with the `nn.ReLU` module or `F.relu` function.\n",
        "\n",
        "It's good practice to name your layers by their type of network, for instance 'fc' to represent a fully-connected layer. As you code your solution, use `fc1`, `fc2`, and `fc3` as your layer names."
      ]
    },
    {
      "cell_type": "code",
      "execution_count": 60,
      "metadata": {
        "collapsed": true,
        "scrolled": true,
        "colab": {
          "base_uri": "https://localhost:8080/"
        },
        "id": "YM_wb3rOYAcH",
        "outputId": "f70cffb6-bb36-4fa3-b115-4fb0dfd5a57e"
      },
      "outputs": [
        {
          "output_type": "execute_result",
          "data": {
            "text/plain": [
              "Network(\n",
              "  (fc1): Linear(in_features=784, out_features=128, bias=True)\n",
              "  (fc2): Linear(in_features=128, out_features=64, bias=True)\n",
              "  (fc3): Linear(in_features=64, out_features=10, bias=True)\n",
              ")"
            ]
          },
          "metadata": {},
          "execution_count": 60
        }
      ],
      "source": [
        "import torch.nn.functional as F\n",
        "\n",
        "class Network(nn.Module):\n",
        "  def __init__(self):\n",
        "    super().__init__()\n",
        "    \n",
        "    self.fc1 = nn.Linear(784,128)\n",
        "    self.fc2 = nn.Linear(128,64)\n",
        "    self.fc3 = nn.Linear(64,10)\n",
        "\n",
        "  def forward(self,x):\n",
        "    x = F.relu(self.fc1(x))\n",
        "    x = F.relu(self.fc2(x))\n",
        "    x = F.softmax(self.fc3(x),dim=1)\n",
        "  \n",
        "    return x\n",
        "\n",
        "\n",
        "model = Network()\n",
        "model"
      ]
    },
    {
      "cell_type": "markdown",
      "metadata": {
        "id": "MH7yLNLSYAcI"
      },
      "source": [
        "### Initializing weights and biases\n",
        "\n",
        "The weights and such are automatically initialized for you, but it's possible to customize how they are initialized. The weights and biases are tensors attached to the layer you defined, you can get them with `model.fc1.weight` for instance."
      ]
    },
    {
      "cell_type": "code",
      "execution_count": 61,
      "metadata": {
        "collapsed": true,
        "colab": {
          "base_uri": "https://localhost:8080/"
        },
        "id": "iOsy9EGgYAcJ",
        "outputId": "b5925df7-7cab-4a6e-a1a0-ed97a109d746"
      },
      "outputs": [
        {
          "output_type": "stream",
          "name": "stdout",
          "text": [
            "Parameter containing:\n",
            "tensor([[-0.0134, -0.0089,  0.0159,  ..., -0.0115,  0.0181,  0.0100],\n",
            "        [-0.0172,  0.0199, -0.0018,  ..., -0.0311, -0.0018,  0.0227],\n",
            "        [ 0.0295,  0.0025,  0.0230,  ...,  0.0278,  0.0202,  0.0103],\n",
            "        ...,\n",
            "        [ 0.0052, -0.0344,  0.0218,  ...,  0.0007,  0.0284, -0.0142],\n",
            "        [ 0.0154,  0.0053,  0.0319,  ...,  0.0137, -0.0081,  0.0228],\n",
            "        [-0.0098, -0.0335, -0.0288,  ..., -0.0093,  0.0290, -0.0073]],\n",
            "       requires_grad=True)\n",
            "Parameter containing:\n",
            "tensor([-0.0102,  0.0193, -0.0113,  0.0149, -0.0009, -0.0131, -0.0282, -0.0237,\n",
            "        -0.0253, -0.0125, -0.0051,  0.0319, -0.0123, -0.0024,  0.0244,  0.0161,\n",
            "         0.0201, -0.0032, -0.0278, -0.0153, -0.0160, -0.0019,  0.0191, -0.0196,\n",
            "        -0.0153, -0.0153, -0.0184, -0.0161, -0.0176,  0.0323, -0.0125, -0.0061,\n",
            "         0.0316,  0.0084,  0.0028, -0.0335, -0.0123,  0.0211,  0.0297, -0.0098,\n",
            "        -0.0266,  0.0125,  0.0299,  0.0294,  0.0339,  0.0142,  0.0067,  0.0343,\n",
            "         0.0032,  0.0254,  0.0069, -0.0297, -0.0161,  0.0040,  0.0347,  0.0260,\n",
            "         0.0290, -0.0297, -0.0201, -0.0193, -0.0058, -0.0316, -0.0144, -0.0330,\n",
            "        -0.0259,  0.0287, -0.0336,  0.0251,  0.0058,  0.0296, -0.0121,  0.0278,\n",
            "         0.0144, -0.0051,  0.0217, -0.0232, -0.0082,  0.0138, -0.0112,  0.0100,\n",
            "         0.0280, -0.0040,  0.0192,  0.0036,  0.0167,  0.0082,  0.0098,  0.0263,\n",
            "         0.0150, -0.0006, -0.0161, -0.0147,  0.0256, -0.0030,  0.0050,  0.0135,\n",
            "        -0.0343, -0.0168, -0.0116, -0.0211, -0.0016,  0.0082,  0.0318,  0.0100,\n",
            "         0.0320, -0.0313,  0.0085,  0.0058, -0.0055, -0.0207,  0.0181, -0.0058,\n",
            "         0.0035, -0.0137,  0.0232,  0.0029,  0.0161, -0.0160, -0.0169, -0.0240,\n",
            "        -0.0163, -0.0127, -0.0084, -0.0029, -0.0265,  0.0144,  0.0056,  0.0175],\n",
            "       requires_grad=True)\n"
          ]
        }
      ],
      "source": [
        "print(model.fc1.weight)\n",
        "print(model.fc1.bias)"
      ]
    },
    {
      "cell_type": "markdown",
      "metadata": {
        "id": "wQJG8PSgYAcJ"
      },
      "source": [
        "For custom initialization, we want to modify these tensors in place. These are actually autograd *Variables*, so we need to get back the actual tensors with `model.fc1.weight.data`. Once we have the tensors, we can fill them with zeros (for biases) or random normal values."
      ]
    },
    {
      "cell_type": "code",
      "source": [
        "model.fc1.weight.data"
      ],
      "metadata": {
        "id": "b5ZkX-xk3AIK",
        "outputId": "a6809251-cf9c-4761-ebad-e2627d9f323e",
        "colab": {
          "base_uri": "https://localhost:8080/"
        }
      },
      "execution_count": 62,
      "outputs": [
        {
          "output_type": "execute_result",
          "data": {
            "text/plain": [
              "tensor([[-0.0134, -0.0089,  0.0159,  ..., -0.0115,  0.0181,  0.0100],\n",
              "        [-0.0172,  0.0199, -0.0018,  ..., -0.0311, -0.0018,  0.0227],\n",
              "        [ 0.0295,  0.0025,  0.0230,  ...,  0.0278,  0.0202,  0.0103],\n",
              "        ...,\n",
              "        [ 0.0052, -0.0344,  0.0218,  ...,  0.0007,  0.0284, -0.0142],\n",
              "        [ 0.0154,  0.0053,  0.0319,  ...,  0.0137, -0.0081,  0.0228],\n",
              "        [-0.0098, -0.0335, -0.0288,  ..., -0.0093,  0.0290, -0.0073]])"
            ]
          },
          "metadata": {},
          "execution_count": 62
        }
      ]
    },
    {
      "cell_type": "code",
      "execution_count": 63,
      "metadata": {
        "collapsed": true,
        "colab": {
          "base_uri": "https://localhost:8080/"
        },
        "id": "pGpVuWeaYAcJ",
        "outputId": "db269c4a-374e-43b9-c0b2-41902f5a7bfc"
      },
      "outputs": [
        {
          "output_type": "execute_result",
          "data": {
            "text/plain": [
              "tensor([0., 0., 0., 0., 0., 0., 0., 0., 0., 0., 0., 0., 0., 0., 0., 0., 0., 0., 0., 0., 0., 0., 0., 0.,\n",
              "        0., 0., 0., 0., 0., 0., 0., 0., 0., 0., 0., 0., 0., 0., 0., 0., 0., 0., 0., 0., 0., 0., 0., 0.,\n",
              "        0., 0., 0., 0., 0., 0., 0., 0., 0., 0., 0., 0., 0., 0., 0., 0., 0., 0., 0., 0., 0., 0., 0., 0.,\n",
              "        0., 0., 0., 0., 0., 0., 0., 0., 0., 0., 0., 0., 0., 0., 0., 0., 0., 0., 0., 0., 0., 0., 0., 0.,\n",
              "        0., 0., 0., 0., 0., 0., 0., 0., 0., 0., 0., 0., 0., 0., 0., 0., 0., 0., 0., 0., 0., 0., 0., 0.,\n",
              "        0., 0., 0., 0., 0., 0., 0., 0.])"
            ]
          },
          "metadata": {},
          "execution_count": 63
        }
      ],
      "source": [
        "# Set biases to all zeros\n",
        "model.fc1.bias.data.fill_(0)"
      ]
    },
    {
      "cell_type": "code",
      "execution_count": 64,
      "metadata": {
        "collapsed": true,
        "colab": {
          "base_uri": "https://localhost:8080/"
        },
        "id": "0_a8x_nOYAcK",
        "outputId": "7e139208-1dd9-4d55-eb4e-55758fa226db"
      },
      "outputs": [
        {
          "output_type": "execute_result",
          "data": {
            "text/plain": [
              "tensor([[-0.0113, -0.0214, -0.0158,  ...,  0.0201, -0.0145,  0.0034],\n",
              "        [-0.0042, -0.0047, -0.0114,  ..., -0.0164, -0.0030, -0.0174],\n",
              "        [ 0.0014, -0.0021,  0.0087,  ..., -0.0110,  0.0029,  0.0056],\n",
              "        ...,\n",
              "        [ 0.0033, -0.0015,  0.0278,  ..., -0.0009,  0.0252,  0.0027],\n",
              "        [ 0.0020, -0.0006,  0.0188,  ...,  0.0070,  0.0043,  0.0058],\n",
              "        [-0.0120,  0.0119, -0.0112,  ...,  0.0028,  0.0196,  0.0090]])"
            ]
          },
          "metadata": {},
          "execution_count": 64
        }
      ],
      "source": [
        "# sample from random normal with standard dev = 0.01\n",
        "model.fc1.weight.data.normal_(std=0.01)"
      ]
    },
    {
      "cell_type": "markdown",
      "metadata": {
        "id": "Dn0cSXQlYAcK"
      },
      "source": [
        "### Forward pass\n",
        "\n",
        "Now that we have a network, let's see what happens when we pass in an image."
      ]
    },
    {
      "cell_type": "code",
      "source": [
        "print(images[0,:].shape)\n",
        "print(images[0].shape)"
      ],
      "metadata": {
        "id": "JLC486-J3apO",
        "outputId": "5ebb49f7-3af3-49db-b103-d380ed79cc97",
        "colab": {
          "base_uri": "https://localhost:8080/"
        }
      },
      "execution_count": 65,
      "outputs": [
        {
          "output_type": "stream",
          "name": "stdout",
          "text": [
            "torch.Size([1, 28, 28])\n",
            "torch.Size([1, 28, 28])\n"
          ]
        }
      ]
    },
    {
      "cell_type": "code",
      "execution_count": 67,
      "metadata": {
        "collapsed": true,
        "id": "GJ20BjvTYAcL"
      },
      "outputs": [],
      "source": [
        "# Grab some data \n",
        "dataiter = iter(trainloader)\n",
        "images, labels = next(dataiter)\n",
        "\n",
        "# Resize images into a 1D vector, new shape is (batch size, color channels, image pixels) \n",
        "images.resize_(64, 1, 784)\n",
        "# or images.resize_(images.shape[0], 1, 784) to automatically get batch size\n",
        "\n",
        "# Forward pass through the network\n",
        "img_idx = 0\n",
        "ps = model.forward(images[img_idx,:])\n",
        "\n",
        "#img = images[img_idx]\n",
        "#helper.view_classify(img.view(1, 28, 28), ps)"
      ]
    },
    {
      "cell_type": "code",
      "source": [
        "ps"
      ],
      "metadata": {
        "id": "uGrbjXRl62kV",
        "outputId": "cba2522f-0e3b-4b98-b791-9dfecc6322c4",
        "colab": {
          "base_uri": "https://localhost:8080/"
        }
      },
      "execution_count": 68,
      "outputs": [
        {
          "output_type": "execute_result",
          "data": {
            "text/plain": [
              "tensor([[0.0911, 0.0970, 0.0947, 0.1160, 0.0996, 0.1104, 0.0919, 0.1026, 0.1071,\n",
              "         0.0896]], grad_fn=<SoftmaxBackward0>)"
            ]
          },
          "metadata": {},
          "execution_count": 68
        }
      ]
    },
    {
      "cell_type": "markdown",
      "metadata": {
        "id": "pD6x1cj5YAcL"
      },
      "source": [
        "As you can see above, our network has basically no idea what this digit is. It's because we haven't trained it yet, all the weights are random!\n",
        "\n",
        "### Using `nn.Sequential`\n",
        "\n",
        "PyTorch provides a convenient way to build networks like this where a tensor is passed sequentially through operations, `nn.Sequential` ([documentation](https://pytorch.org/docs/master/nn.html#torch.nn.Sequential)). Using this to build the equivalent network:"
      ]
    },
    {
      "cell_type": "code",
      "execution_count": 69,
      "metadata": {
        "collapsed": true,
        "colab": {
          "base_uri": "https://localhost:8080/"
        },
        "id": "pYgYmuGxYAcM",
        "outputId": "ca374f25-1947-44a5-deaa-98cde6df2e2b"
      },
      "outputs": [
        {
          "output_type": "stream",
          "name": "stdout",
          "text": [
            "Sequential(\n",
            "  (0): Linear(in_features=784, out_features=128, bias=True)\n",
            "  (1): ReLU()\n",
            "  (2): Linear(in_features=128, out_features=64, bias=True)\n",
            "  (3): ReLU()\n",
            "  (4): Linear(in_features=64, out_features=10, bias=True)\n",
            "  (5): Softmax(dim=1)\n",
            ")\n"
          ]
        },
        {
          "output_type": "execute_result",
          "data": {
            "text/plain": [
              "tensor([[0.0878, 0.0910, 0.1077, 0.1147, 0.1017, 0.1131, 0.1013, 0.0996, 0.0930,\n",
              "         0.0901]], grad_fn=<SoftmaxBackward0>)"
            ]
          },
          "metadata": {},
          "execution_count": 69
        }
      ],
      "source": [
        "# Hyperparameters for our network\n",
        "input_size = 784\n",
        "hidden_sizes = [128, 64]\n",
        "output_size = 10\n",
        "\n",
        "# Build a feed-forward network\n",
        "model = nn.Sequential(nn.Linear(input_size, hidden_sizes[0]),\n",
        "                      nn.ReLU(),\n",
        "                      nn.Linear(hidden_sizes[0], hidden_sizes[1]),\n",
        "                      nn.ReLU(),\n",
        "                      nn.Linear(hidden_sizes[1], output_size),\n",
        "                      nn.Softmax(dim=1))\n",
        "print(model)\n",
        "\n",
        "# Forward pass through the network and display output\n",
        "images, labels = next(iter(trainloader))\n",
        "images.resize_(images.shape[0], 1, 784)\n",
        "ps = model.forward(images[0,:])\n",
        "ps\n",
        "#helper.view_classify(images[0].view(1, 28, 28), ps)"
      ]
    },
    {
      "cell_type": "markdown",
      "metadata": {
        "id": "QjCTzuEgYAcM"
      },
      "source": [
        "Here our model is the same as before: 784 input units, a hidden layer with 128 units, ReLU activation, 64 unit hidden layer, another ReLU, then the output layer with 10 units, and the softmax output.\n",
        "\n",
        "The operations are available by passing in the appropriate index. For example, if you want to get first Linear operation and look at the weights, you'd use `model[0]`."
      ]
    },
    {
      "cell_type": "code",
      "execution_count": 70,
      "metadata": {
        "collapsed": true,
        "colab": {
          "base_uri": "https://localhost:8080/"
        },
        "id": "qOvUj1mFYAcM",
        "outputId": "314d9ce3-820d-42bc-a15b-e1dad310dce3"
      },
      "outputs": [
        {
          "output_type": "stream",
          "name": "stdout",
          "text": [
            "Linear(in_features=784, out_features=128, bias=True)\n"
          ]
        },
        {
          "output_type": "execute_result",
          "data": {
            "text/plain": [
              "Parameter containing:\n",
              "tensor([[-0.0322, -0.0005, -0.0338,  ..., -0.0083, -0.0025, -0.0084],\n",
              "        [ 0.0150, -0.0303, -0.0152,  ..., -0.0056, -0.0017,  0.0027],\n",
              "        [ 0.0215,  0.0093, -0.0031,  ...,  0.0139,  0.0154,  0.0291],\n",
              "        ...,\n",
              "        [-0.0188, -0.0119,  0.0179,  ..., -0.0099, -0.0292, -0.0237],\n",
              "        [-0.0334, -0.0314,  0.0321,  ...,  0.0330,  0.0243, -0.0201],\n",
              "        [-0.0036,  0.0215,  0.0137,  ..., -0.0191, -0.0256,  0.0039]],\n",
              "       requires_grad=True)"
            ]
          },
          "metadata": {},
          "execution_count": 70
        }
      ],
      "source": [
        "print(model[0])\n",
        "model[0].weight"
      ]
    },
    {
      "cell_type": "markdown",
      "metadata": {
        "id": "EnbEWAgcYAcN"
      },
      "source": [
        "You can also pass in an `OrderedDict` to name the individual layers and operations, instead of using incremental integers. Note that dictionary keys must be unique, so _each operation must have a different name_."
      ]
    },
    {
      "cell_type": "code",
      "execution_count": 72,
      "metadata": {
        "collapsed": true,
        "colab": {
          "base_uri": "https://localhost:8080/"
        },
        "id": "4_WY-czoYAcN",
        "outputId": "d17f22c3-cb8d-4680-fd55-bbda0d5b60c9"
      },
      "outputs": [
        {
          "output_type": "execute_result",
          "data": {
            "text/plain": [
              "Sequential(\n",
              "  (fc1): Linear(in_features=784, out_features=128, bias=True)\n",
              "  (relu1): ReLU()\n",
              "  (fc2): Linear(in_features=128, out_features=64, bias=True)\n",
              "  (relu2): ReLU()\n",
              "  (output): Linear(in_features=64, out_features=10, bias=True)\n",
              "  (softmax): Softmax(dim=1)\n",
              ")"
            ]
          },
          "metadata": {},
          "execution_count": 72
        }
      ],
      "source": [
        "from collections import OrderedDict\n",
        "model = nn.Sequential(OrderedDict([\n",
        "                      ('fc1', nn.Linear(input_size, hidden_sizes[0])),\n",
        "                      ('relu1', nn.ReLU()),\n",
        "                      ('fc2', nn.Linear(hidden_sizes[0], hidden_sizes[1])),\n",
        "                      ('relu2', nn.ReLU()),\n",
        "                      ('output', nn.Linear(hidden_sizes[1], output_size)),\n",
        "                      ('softmax', nn.Softmax(dim=1))]))\n",
        "model"
      ]
    },
    {
      "cell_type": "markdown",
      "metadata": {
        "id": "RhbcLWRfYAcO"
      },
      "source": [
        "Now you can access layers either by integer or the name"
      ]
    },
    {
      "cell_type": "code",
      "execution_count": 73,
      "metadata": {
        "collapsed": true,
        "colab": {
          "base_uri": "https://localhost:8080/"
        },
        "id": "NaNHGCfnYAcO",
        "outputId": "3c0845b6-2739-4ae6-ad4c-d9e4a88cdb59"
      },
      "outputs": [
        {
          "output_type": "stream",
          "name": "stdout",
          "text": [
            "Linear(in_features=784, out_features=128, bias=True)\n",
            "Linear(in_features=784, out_features=128, bias=True)\n"
          ]
        }
      ],
      "source": [
        "print(model[0])\n",
        "print(model.fc1)"
      ]
    },
    {
      "cell_type": "markdown",
      "metadata": {
        "id": "6xqp218IYAcP"
      },
      "source": [
        "In the next notebook, we'll see how we can train a neural network to accuractly predict the numbers appearing in the MNIST images."
      ]
    }
  ],
  "metadata": {
    "kernelspec": {
      "display_name": "Python [default]",
      "language": "python",
      "name": "python3"
    },
    "language_info": {
      "codemirror_mode": {
        "name": "ipython",
        "version": 3
      },
      "file_extension": ".py",
      "mimetype": "text/x-python",
      "name": "python",
      "nbconvert_exporter": "python",
      "pygments_lexer": "ipython3",
      "version": "3.6.4"
    },
    "colab": {
      "provenance": [],
      "include_colab_link": true
    }
  },
  "nbformat": 4,
  "nbformat_minor": 0
}